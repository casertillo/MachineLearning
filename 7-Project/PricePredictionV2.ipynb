{
 "cells": [
  {
   "cell_type": "markdown",
   "metadata": {},
   "source": [
    "# Mercari Price Prediction"
   ]
  },
  {
   "cell_type": "markdown",
   "metadata": {},
   "source": [
    "## Exploration"
   ]
  },
  {
   "cell_type": "markdown",
   "metadata": {},
   "source": [
    "In this section we are going to check each feature, their correlation, and distribution. It is a descriptive analysis of the entire data. Graphically explain how the dataset is composed."
   ]
  },
  {
   "cell_type": "markdown",
   "metadata": {},
   "source": [
    "Load the data"
   ]
  },
  {
   "cell_type": "code",
   "execution_count": 11,
   "metadata": {
    "collapsed": true
   },
   "outputs": [],
   "source": [
    "import numpy as np\n",
    "import pandas as pd\n",
    "import matplotlib.mlab as mlab\n",
    "import matplotlib.pyplot as plt\n",
    "import seaborn as sns\n",
    "from IPython.display import display # Allows the use of display() for DataFrames\n",
    "from sklearn.pipeline import FeatureUnion\n",
    "from sklearn.feature_extraction.text import CountVectorizer\n",
    "from sklearn.feature_extraction.text import TfidfVectorizer\n",
    "from sklearn.feature_selection import SelectPercentile, mutual_info_classif, f_regression\n",
    "from sklearn.model_selection import train_test_split\n",
    "from sklearn.neighbors import KNeighborsRegressor\n",
    "from sklearn.cluster import KMeans\n",
    "from sklearn.externals.joblib.parallel import cpu_count, Parallel, delayed\n",
    "from nltk.corpus import stopwords\n",
    "from nltk.tokenize import word_tokenize\n",
    "from scipy.sparse import csr_matrix\n",
    "import scipy.sparse as sp\n",
    "import gc\n",
    "import tempfile\n",
    "import os\n",
    "from joblib import load, dump\n",
    "\n",
    "# Pretty display for notebooks\n",
    "%matplotlib inline"
   ]
  },
  {
   "cell_type": "code",
   "execution_count": 12,
   "metadata": {
    "collapsed": true
   },
   "outputs": [],
   "source": [
    "train = pd.read_table('Dataset/train.tsv')\n",
    "test = pd.read_table('Dataset/test.tsv')\n",
    "prices = train[\"price\"]\n",
    "features = train.drop(\"price\", axis = 1)"
   ]
  },
  {
   "cell_type": "code",
   "execution_count": 3,
   "metadata": {},
   "outputs": [
    {
     "name": "stdout",
     "output_type": "stream",
     "text": [
      "(1482535, 8)\n",
      "(693359, 7)\n"
     ]
    }
   ],
   "source": [
    "print(train.shape)\n",
    "print(test.shape)"
   ]
  },
  {
   "cell_type": "code",
   "execution_count": 4,
   "metadata": {},
   "outputs": [
    {
     "name": "stdout",
     "output_type": "stream",
     "text": [
      "train_id             False\n",
      "name                 False\n",
      "item_condition_id    False\n",
      "category_name         True\n",
      "brand_name            True\n",
      "price                False\n",
      "shipping             False\n",
      "item_description      True\n",
      "dtype: bool\n"
     ]
    },
    {
     "data": {
      "text/plain": [
       "train_id               int64\n",
       "name                  object\n",
       "item_condition_id      int64\n",
       "category_name         object\n",
       "brand_name            object\n",
       "price                float64\n",
       "shipping               int64\n",
       "item_description      object\n",
       "dtype: object"
      ]
     },
     "execution_count": 4,
     "metadata": {},
     "output_type": "execute_result"
    }
   ],
   "source": [
    "# Check for Nulls\n",
    "print(train.isnull().any())\n",
    "\n",
    "# types\n",
    "train.dtypes"
   ]
  },
  {
   "cell_type": "code",
   "execution_count": 5,
   "metadata": {},
   "outputs": [
    {
     "data": {
      "text/html": [
       "<div>\n",
       "<style>\n",
       "    .dataframe thead tr:only-child th {\n",
       "        text-align: right;\n",
       "    }\n",
       "\n",
       "    .dataframe thead th {\n",
       "        text-align: left;\n",
       "    }\n",
       "\n",
       "    .dataframe tbody tr th {\n",
       "        vertical-align: top;\n",
       "    }\n",
       "</style>\n",
       "<table border=\"1\" class=\"dataframe\">\n",
       "  <thead>\n",
       "    <tr style=\"text-align: right;\">\n",
       "      <th></th>\n",
       "      <th>train_id</th>\n",
       "      <th>item_condition_id</th>\n",
       "      <th>price</th>\n",
       "      <th>shipping</th>\n",
       "    </tr>\n",
       "  </thead>\n",
       "  <tbody>\n",
       "    <tr>\n",
       "      <th>count</th>\n",
       "      <td>1.482535e+06</td>\n",
       "      <td>1.482535e+06</td>\n",
       "      <td>1.482535e+06</td>\n",
       "      <td>1.482535e+06</td>\n",
       "    </tr>\n",
       "    <tr>\n",
       "      <th>mean</th>\n",
       "      <td>7.412670e+05</td>\n",
       "      <td>1.907380e+00</td>\n",
       "      <td>2.673752e+01</td>\n",
       "      <td>4.472744e-01</td>\n",
       "    </tr>\n",
       "    <tr>\n",
       "      <th>std</th>\n",
       "      <td>4.279711e+05</td>\n",
       "      <td>9.031586e-01</td>\n",
       "      <td>3.858607e+01</td>\n",
       "      <td>4.972124e-01</td>\n",
       "    </tr>\n",
       "    <tr>\n",
       "      <th>min</th>\n",
       "      <td>0.000000e+00</td>\n",
       "      <td>1.000000e+00</td>\n",
       "      <td>0.000000e+00</td>\n",
       "      <td>0.000000e+00</td>\n",
       "    </tr>\n",
       "    <tr>\n",
       "      <th>25%</th>\n",
       "      <td>3.706335e+05</td>\n",
       "      <td>1.000000e+00</td>\n",
       "      <td>1.000000e+01</td>\n",
       "      <td>0.000000e+00</td>\n",
       "    </tr>\n",
       "    <tr>\n",
       "      <th>50%</th>\n",
       "      <td>7.412670e+05</td>\n",
       "      <td>2.000000e+00</td>\n",
       "      <td>1.700000e+01</td>\n",
       "      <td>0.000000e+00</td>\n",
       "    </tr>\n",
       "    <tr>\n",
       "      <th>75%</th>\n",
       "      <td>1.111900e+06</td>\n",
       "      <td>3.000000e+00</td>\n",
       "      <td>2.900000e+01</td>\n",
       "      <td>1.000000e+00</td>\n",
       "    </tr>\n",
       "    <tr>\n",
       "      <th>max</th>\n",
       "      <td>1.482534e+06</td>\n",
       "      <td>5.000000e+00</td>\n",
       "      <td>2.009000e+03</td>\n",
       "      <td>1.000000e+00</td>\n",
       "    </tr>\n",
       "  </tbody>\n",
       "</table>\n",
       "</div>"
      ],
      "text/plain": [
       "           train_id  item_condition_id         price      shipping\n",
       "count  1.482535e+06       1.482535e+06  1.482535e+06  1.482535e+06\n",
       "mean   7.412670e+05       1.907380e+00  2.673752e+01  4.472744e-01\n",
       "std    4.279711e+05       9.031586e-01  3.858607e+01  4.972124e-01\n",
       "min    0.000000e+00       1.000000e+00  0.000000e+00  0.000000e+00\n",
       "25%    3.706335e+05       1.000000e+00  1.000000e+01  0.000000e+00\n",
       "50%    7.412670e+05       2.000000e+00  1.700000e+01  0.000000e+00\n",
       "75%    1.111900e+06       3.000000e+00  2.900000e+01  1.000000e+00\n",
       "max    1.482534e+06       5.000000e+00  2.009000e+03  1.000000e+00"
      ]
     },
     "metadata": {},
     "output_type": "display_data"
    }
   ],
   "source": [
    "# Display a description of the dataset\n",
    "display(train.describe())"
   ]
  },
  {
   "cell_type": "code",
   "execution_count": 6,
   "metadata": {},
   "outputs": [
    {
     "data": {
      "text/html": [
       "<div>\n",
       "<style>\n",
       "    .dataframe thead tr:only-child th {\n",
       "        text-align: right;\n",
       "    }\n",
       "\n",
       "    .dataframe thead th {\n",
       "        text-align: left;\n",
       "    }\n",
       "\n",
       "    .dataframe tbody tr th {\n",
       "        vertical-align: top;\n",
       "    }\n",
       "</style>\n",
       "<table border=\"1\" class=\"dataframe\">\n",
       "  <thead>\n",
       "    <tr style=\"text-align: right;\">\n",
       "      <th></th>\n",
       "      <th>train_id</th>\n",
       "      <th>name</th>\n",
       "      <th>item_condition_id</th>\n",
       "      <th>category_name</th>\n",
       "      <th>brand_name</th>\n",
       "      <th>price</th>\n",
       "      <th>shipping</th>\n",
       "      <th>item_description</th>\n",
       "    </tr>\n",
       "  </thead>\n",
       "  <tbody>\n",
       "    <tr>\n",
       "      <th>0</th>\n",
       "      <td>0</td>\n",
       "      <td>MLB Cincinnati Reds T Shirt Size XL</td>\n",
       "      <td>3</td>\n",
       "      <td>Men/Tops/T-shirts</td>\n",
       "      <td>NaN</td>\n",
       "      <td>10.0</td>\n",
       "      <td>1</td>\n",
       "      <td>No description yet</td>\n",
       "    </tr>\n",
       "    <tr>\n",
       "      <th>1</th>\n",
       "      <td>1</td>\n",
       "      <td>Razer BlackWidow Chroma Keyboard</td>\n",
       "      <td>3</td>\n",
       "      <td>Electronics/Computers &amp; Tablets/Components &amp; P...</td>\n",
       "      <td>Razer</td>\n",
       "      <td>52.0</td>\n",
       "      <td>0</td>\n",
       "      <td>This keyboard is in great condition and works ...</td>\n",
       "    </tr>\n",
       "    <tr>\n",
       "      <th>2</th>\n",
       "      <td>2</td>\n",
       "      <td>AVA-VIV Blouse</td>\n",
       "      <td>1</td>\n",
       "      <td>Women/Tops &amp; Blouses/Blouse</td>\n",
       "      <td>Target</td>\n",
       "      <td>10.0</td>\n",
       "      <td>1</td>\n",
       "      <td>Adorable top with a hint of lace and a key hol...</td>\n",
       "    </tr>\n",
       "    <tr>\n",
       "      <th>3</th>\n",
       "      <td>3</td>\n",
       "      <td>Leather Horse Statues</td>\n",
       "      <td>1</td>\n",
       "      <td>Home/Home Décor/Home Décor Accents</td>\n",
       "      <td>NaN</td>\n",
       "      <td>35.0</td>\n",
       "      <td>1</td>\n",
       "      <td>New with tags. Leather horses. Retail for [rm]...</td>\n",
       "    </tr>\n",
       "    <tr>\n",
       "      <th>4</th>\n",
       "      <td>4</td>\n",
       "      <td>24K GOLD plated rose</td>\n",
       "      <td>1</td>\n",
       "      <td>Women/Jewelry/Necklaces</td>\n",
       "      <td>NaN</td>\n",
       "      <td>44.0</td>\n",
       "      <td>0</td>\n",
       "      <td>Complete with certificate of authenticity</td>\n",
       "    </tr>\n",
       "  </tbody>\n",
       "</table>\n",
       "</div>"
      ],
      "text/plain": [
       "   train_id                                 name  item_condition_id  \\\n",
       "0         0  MLB Cincinnati Reds T Shirt Size XL                  3   \n",
       "1         1     Razer BlackWidow Chroma Keyboard                  3   \n",
       "2         2                       AVA-VIV Blouse                  1   \n",
       "3         3                Leather Horse Statues                  1   \n",
       "4         4                 24K GOLD plated rose                  1   \n",
       "\n",
       "                                       category_name brand_name  price  \\\n",
       "0                                  Men/Tops/T-shirts        NaN   10.0   \n",
       "1  Electronics/Computers & Tablets/Components & P...      Razer   52.0   \n",
       "2                        Women/Tops & Blouses/Blouse     Target   10.0   \n",
       "3                 Home/Home Décor/Home Décor Accents        NaN   35.0   \n",
       "4                            Women/Jewelry/Necklaces        NaN   44.0   \n",
       "\n",
       "   shipping                                   item_description  \n",
       "0         1                                 No description yet  \n",
       "1         0  This keyboard is in great condition and works ...  \n",
       "2         1  Adorable top with a hint of lace and a key hol...  \n",
       "3         1  New with tags. Leather horses. Retail for [rm]...  \n",
       "4         0          Complete with certificate of authenticity  "
      ]
     },
     "execution_count": 6,
     "metadata": {},
     "output_type": "execute_result"
    }
   ],
   "source": [
    "train.head()"
   ]
  },
  {
   "cell_type": "markdown",
   "metadata": {},
   "source": [
    "### Feature analysis"
   ]
  },
  {
   "cell_type": "markdown",
   "metadata": {},
   "source": [
    "#### 1) Price - Target value"
   ]
  },
  {
   "cell_type": "code",
   "execution_count": 7,
   "metadata": {},
   "outputs": [
    {
     "name": "stdout",
     "output_type": "stream",
     "text": [
      "count    1.482535e+06\n",
      "mean     2.673752e+01\n",
      "std      3.858607e+01\n",
      "min      0.000000e+00\n",
      "25%      1.000000e+01\n",
      "50%      1.700000e+01\n",
      "75%      2.900000e+01\n",
      "85%      4.000000e+01\n",
      "95%      7.500000e+01\n",
      "98%      1.220000e+02\n",
      "max      2.009000e+03\n",
      "Name: price, dtype: float64\n"
     ]
    },
    {
     "data": {
      "image/png": "[encoded data removed]",
      "text/plain": [
       "<matplotlib.figure.Figure at 0x7f8fe34a2950>"
      ]
     },
     "metadata": {},
     "output_type": "display_data"
    },
    {
     "name": "stdout",
     "output_type": "stream",
     "text": [
      "As we can see most of the information is within the range from $0 to $200.\n",
      "We update the histogram to understand more the distribution of the data.\n",
      "As mentioned above, 75% of the prices are between $0 and $29\n"
     ]
    },
    {
     "data": {
      "image/png": "[encoded data removed]",
      "text/plain": [
       "<matplotlib.figure.Figure at 0x7f8fe13cf950>"
      ]
     },
     "metadata": {},
     "output_type": "display_data"
    },
    {
     "name": "stdout",
     "output_type": "stream",
     "text": [
      "Products with price equal 0 = 874\n"
     ]
    }
   ],
   "source": [
    "print train.price.describe(percentiles=[.25, .50, .75, .85, .95, .98])\n",
    "\n",
    "plt.figure(figsize=(20,10))\n",
    "plt.hist(prices, bins = 500)\n",
    "plt.title(\"Prices Frequency\")\n",
    "plt.xlabel(\"Price\")\n",
    "plt.ylabel(\"Frequency\")\n",
    "plt.savefig('priceFrequency1.png')\n",
    "plt.show()\n",
    "\n",
    "\n",
    "print(\"As we can see most of the information is within the range from $0 to $200.\")\n",
    "print(\"We update the histogram to understand more the distribution of the data.\")\n",
    "print(\"As mentioned above, 75% of the prices are between $0 and $29\")\n",
    "# the histogram of the data\n",
    "plt.figure(figsize=(20,10))\n",
    "plt.hist(prices, bins = 500, rwidth=0.9)\n",
    "plt.title(\"Prices Frequency\")\n",
    "plt.xlabel(\"Price\")\n",
    "plt.xlim(0, 200)\n",
    "plt.ylabel(\"Frequency\")\n",
    "plt.savefig('priceFrequency2.png')\n",
    "plt.show()\n",
    "\n",
    "\n",
    "print(\"Products with price equal 0 = \" + str(prices.size - np.count_nonzero(prices)))\n",
    "\n"
   ]
  },
  {
   "cell_type": "markdown",
   "metadata": {},
   "source": [
    "At first glance, we can observe from the histogram above that the distribution of the prices is not normal. Instead, it is more a positively skewed shape. Also, the prices' range is too wide, from $0.00 to $2009.00. Hence, in order to reduce the range, and have a close normal distribution, we will use the log function in the price.\n",
    "\n",
    "But First, we need to remove the prices equal to 0 due to the fact that they do not apport nothing to our model, and could be considered just noise. For instance, in the subset that contains the items with prices equal to zero, we can find jeans levis, old navy shirts, Nike shoes, to name few. Clearly, none of these items could cost something close to zero."
   ]
  },
  {
   "cell_type": "code",
   "execution_count": 8,
   "metadata": {
    "collapsed": true
   },
   "outputs": [],
   "source": [
    "sampleZero = np.where(train['price'] <= 0.0)"
   ]
  },
  {
   "cell_type": "code",
   "execution_count": 9,
   "metadata": {},
   "outputs": [
    {
     "name": "stdout",
     "output_type": "stream",
     "text": [
      "Chosen samples of wholesale customers dataset:\n"
     ]
    },
    {
     "data": {
      "text/html": [
       "<div>\n",
       "<style>\n",
       "    .dataframe thead tr:only-child th {\n",
       "        text-align: right;\n",
       "    }\n",
       "\n",
       "    .dataframe thead th {\n",
       "        text-align: left;\n",
       "    }\n",
       "\n",
       "    .dataframe tbody tr th {\n",
       "        vertical-align: top;\n",
       "    }\n",
       "</style>\n",
       "<table border=\"1\" class=\"dataframe\">\n",
       "  <thead>\n",
       "    <tr style=\"text-align: right;\">\n",
       "      <th></th>\n",
       "      <th>train_id</th>\n",
       "      <th>name</th>\n",
       "      <th>item_condition_id</th>\n",
       "      <th>category_name</th>\n",
       "      <th>brand_name</th>\n",
       "      <th>price</th>\n",
       "      <th>shipping</th>\n",
       "      <th>item_description</th>\n",
       "    </tr>\n",
       "  </thead>\n",
       "  <tbody>\n",
       "    <tr>\n",
       "      <th>0</th>\n",
       "      <td>1325</td>\n",
       "      <td>Alabama Crimson Tide Quality Lanyard</td>\n",
       "      <td>1</td>\n",
       "      <td>Sports &amp; Outdoors/Fan Shop/NCAA</td>\n",
       "      <td>NaN</td>\n",
       "      <td>0.0</td>\n",
       "      <td>1</td>\n",
       "      <td>TOP QUALITY THICK LANYARD Reversible sides wit...</td>\n",
       "    </tr>\n",
       "    <tr>\n",
       "      <th>1</th>\n",
       "      <td>2544</td>\n",
       "      <td>Levi leggings</td>\n",
       "      <td>3</td>\n",
       "      <td>Women/Jeans/Slim, Skinny</td>\n",
       "      <td>Levi's®</td>\n",
       "      <td>0.0</td>\n",
       "      <td>0</td>\n",
       "      <td>Light wash. Hardly worn. Size 24 but fits like...</td>\n",
       "    </tr>\n",
       "    <tr>\n",
       "      <th>2</th>\n",
       "      <td>2712</td>\n",
       "      <td>Simple Red Lace Lingerie Top</td>\n",
       "      <td>3</td>\n",
       "      <td>Women/Underwear/G-Strings &amp; Thongs</td>\n",
       "      <td>NaN</td>\n",
       "      <td>0.0</td>\n",
       "      <td>0</td>\n",
       "      <td>Very simple but cute, a little form fitting as...</td>\n",
       "    </tr>\n",
       "    <tr>\n",
       "      <th>3</th>\n",
       "      <td>3576</td>\n",
       "      <td>Turquoise 15 Pc Makeup Brush Set</td>\n",
       "      <td>1</td>\n",
       "      <td>Beauty/Tools &amp; Accessories/Makeup Brushes &amp; Tools</td>\n",
       "      <td>NaN</td>\n",
       "      <td>0.0</td>\n",
       "      <td>1</td>\n",
       "      <td>1 left!</td>\n",
       "    </tr>\n",
       "    <tr>\n",
       "      <th>4</th>\n",
       "      <td>3761</td>\n",
       "      <td>Girls size 7/8</td>\n",
       "      <td>3</td>\n",
       "      <td>Kids/Girls (4+)/Tops &amp; T-Shirts</td>\n",
       "      <td>NaN</td>\n",
       "      <td>0.0</td>\n",
       "      <td>1</td>\n",
       "      <td>5 pair gap jean excellent used condition 3 chi...</td>\n",
       "    </tr>\n",
       "    <tr>\n",
       "      <th>5</th>\n",
       "      <td>5237</td>\n",
       "      <td>Nursing Bra</td>\n",
       "      <td>3</td>\n",
       "      <td>Women/Underwear/Bras</td>\n",
       "      <td>Motherhood Maternity</td>\n",
       "      <td>0.0</td>\n",
       "      <td>0</td>\n",
       "      <td>Used a few times but was not able to nurse</td>\n",
       "    </tr>\n",
       "    <tr>\n",
       "      <th>6</th>\n",
       "      <td>6175</td>\n",
       "      <td>Multi Listing Bundled Package, Thanks</td>\n",
       "      <td>2</td>\n",
       "      <td>Electronics/Media/DVD</td>\n",
       "      <td>NaN</td>\n",
       "      <td>0.0</td>\n",
       "      <td>1</td>\n",
       "      <td>1)Large Collection of Full Length Strawberry S...</td>\n",
       "    </tr>\n",
       "    <tr>\n",
       "      <th>7</th>\n",
       "      <td>7116</td>\n",
       "      <td>Nike Dri-Fit High Power Speed Tights</td>\n",
       "      <td>1</td>\n",
       "      <td>Women/Athletic Apparel/Pants, Tights, Leggings</td>\n",
       "      <td>Nike</td>\n",
       "      <td>0.0</td>\n",
       "      <td>1</td>\n",
       "      <td>Bought at Nike store in New York, Brand New, N...</td>\n",
       "    </tr>\n",
       "    <tr>\n",
       "      <th>8</th>\n",
       "      <td>7622</td>\n",
       "      <td>Hands free earpiece</td>\n",
       "      <td>1</td>\n",
       "      <td>Electronics/Cell Phones &amp; Accessories/Headsets</td>\n",
       "      <td>NaN</td>\n",
       "      <td>0.0</td>\n",
       "      <td>0</td>\n",
       "      <td>Wireless Bluetooth hands free used with Samsun...</td>\n",
       "    </tr>\n",
       "    <tr>\n",
       "      <th>9</th>\n",
       "      <td>10812</td>\n",
       "      <td>Vampire candy bowl</td>\n",
       "      <td>1</td>\n",
       "      <td>Home/Seasonal Décor/Halloween</td>\n",
       "      <td>NaN</td>\n",
       "      <td>0.0</td>\n",
       "      <td>0</td>\n",
       "      <td>New good condition for halloween</td>\n",
       "    </tr>\n",
       "    <tr>\n",
       "      <th>10</th>\n",
       "      <td>12738</td>\n",
       "      <td>Beautiful Janie and Jack loafers sz 4</td>\n",
       "      <td>2</td>\n",
       "      <td>Kids/Boys 2T-5T/Shoes</td>\n",
       "      <td>Janie and Jack</td>\n",
       "      <td>0.0</td>\n",
       "      <td>0</td>\n",
       "      <td>Like New</td>\n",
       "    </tr>\n",
       "    <tr>\n",
       "      <th>11</th>\n",
       "      <td>17617</td>\n",
       "      <td>Coca Cola Stuffed Bears</td>\n",
       "      <td>3</td>\n",
       "      <td>Kids/Toys/Stuffed Animals &amp; Plush</td>\n",
       "      <td>NaN</td>\n",
       "      <td>0.0</td>\n",
       "      <td>0</td>\n",
       "      <td>Coca Cola plush adorable bears to start your c...</td>\n",
       "    </tr>\n",
       "    <tr>\n",
       "      <th>12</th>\n",
       "      <td>17831</td>\n",
       "      <td>Holographic sequin bra</td>\n",
       "      <td>3</td>\n",
       "      <td>Women/Underwear/Bras</td>\n",
       "      <td>NaN</td>\n",
       "      <td>0.0</td>\n",
       "      <td>0</td>\n",
       "      <td>Holographic Sequin bra 36B No brand</td>\n",
       "    </tr>\n",
       "    <tr>\n",
       "      <th>13</th>\n",
       "      <td>18324</td>\n",
       "      <td>Pura 11 oz straw cup, swirl pink</td>\n",
       "      <td>1</td>\n",
       "      <td>NaN</td>\n",
       "      <td>NaN</td>\n",
       "      <td>0.0</td>\n",
       "      <td>1</td>\n",
       "      <td>100% plastic free straw bottle easily transiti...</td>\n",
       "    </tr>\n",
       "    <tr>\n",
       "      <th>14</th>\n",
       "      <td>19909</td>\n",
       "      <td>Obey Floral Snapback Hat</td>\n",
       "      <td>2</td>\n",
       "      <td>Men/Men's Accessories/Hats</td>\n",
       "      <td>Obey</td>\n",
       "      <td>0.0</td>\n",
       "      <td>0</td>\n",
       "      <td>A friend sold me this hat although I don't wea...</td>\n",
       "    </tr>\n",
       "    <tr>\n",
       "      <th>15</th>\n",
       "      <td>20986</td>\n",
       "      <td>Sale! Varied sizes - Rock N' Roll t</td>\n",
       "      <td>1</td>\n",
       "      <td>Women/Tops &amp; Blouses/T-Shirts</td>\n",
       "      <td>NaN</td>\n",
       "      <td>0.0</td>\n",
       "      <td>0</td>\n",
       "      <td>Really cute sleeveless tee! Perfect for that s...</td>\n",
       "    </tr>\n",
       "    <tr>\n",
       "      <th>16</th>\n",
       "      <td>22876</td>\n",
       "      <td>Quay Australia Sunnies - Barely Worn</td>\n",
       "      <td>2</td>\n",
       "      <td>Women/Women's Accessories/Sunglasses</td>\n",
       "      <td>NaN</td>\n",
       "      <td>0.0</td>\n",
       "      <td>0</td>\n",
       "      <td>But directly from Quay Have worn 3 times Alway...</td>\n",
       "    </tr>\n",
       "    <tr>\n",
       "      <th>17</th>\n",
       "      <td>24288</td>\n",
       "      <td>Fred Jackson Autographed Mini Helmet</td>\n",
       "      <td>2</td>\n",
       "      <td>Sports &amp; Outdoors/Fan Shop/NFL</td>\n",
       "      <td>NaN</td>\n",
       "      <td>0.0</td>\n",
       "      <td>1</td>\n",
       "      <td>Autographed by former Bills star running back ...</td>\n",
       "    </tr>\n",
       "    <tr>\n",
       "      <th>18</th>\n",
       "      <td>28091</td>\n",
       "      <td>Jordan Cris Shoes Size 2</td>\n",
       "      <td>1</td>\n",
       "      <td>Kids/Boys 0-24 Mos/Shoes</td>\n",
       "      <td>Nike</td>\n",
       "      <td>0.0</td>\n",
       "      <td>1</td>\n",
       "      <td>Bought from another seller and too small</td>\n",
       "    </tr>\n",
       "    <tr>\n",
       "      <th>19</th>\n",
       "      <td>28701</td>\n",
       "      <td>Lace Up Bodysuit * On Hold</td>\n",
       "      <td>2</td>\n",
       "      <td>NaN</td>\n",
       "      <td>Nordstrom</td>\n",
       "      <td>0.0</td>\n",
       "      <td>0</td>\n",
       "      <td>From nordstroms. Literally worn once but was t...</td>\n",
       "    </tr>\n",
       "    <tr>\n",
       "      <th>20</th>\n",
       "      <td>29240</td>\n",
       "      <td>Baby K'Tan Wrap Carrier</td>\n",
       "      <td>3</td>\n",
       "      <td>Kids/Gear/Backpacks &amp; Carriers</td>\n",
       "      <td>All</td>\n",
       "      <td>0.0</td>\n",
       "      <td>0</td>\n",
       "      <td>Super comfy infant carrier in color \"eggplant\"...</td>\n",
       "    </tr>\n",
       "    <tr>\n",
       "      <th>21</th>\n",
       "      <td>29702</td>\n",
       "      <td>Old Navy White Polka Dot Shorts Size 16</td>\n",
       "      <td>2</td>\n",
       "      <td>Women/Athletic Apparel/Shorts</td>\n",
       "      <td>Old Navy</td>\n",
       "      <td>0.0</td>\n",
       "      <td>0</td>\n",
       "      <td>Old Navy white with small black polka dots wov...</td>\n",
       "    </tr>\n",
       "    <tr>\n",
       "      <th>22</th>\n",
       "      <td>29826</td>\n",
       "      <td>Geo Mountains/ Triangles Pillow Set Of 2</td>\n",
       "      <td>1</td>\n",
       "      <td>Home/Home Décor/Decorative Pillows</td>\n",
       "      <td>NaN</td>\n",
       "      <td>0.0</td>\n",
       "      <td>0</td>\n",
       "      <td>Accent pillows liven up a room &amp; give it insta...</td>\n",
       "    </tr>\n",
       "    <tr>\n",
       "      <th>23</th>\n",
       "      <td>33056</td>\n",
       "      <td>Viking compass leathercoinpurse guidance</td>\n",
       "      <td>1</td>\n",
       "      <td>Handmade/Bags and Purses/Pouch</td>\n",
       "      <td>NaN</td>\n",
       "      <td>0.0</td>\n",
       "      <td>1</td>\n",
       "      <td>Leather coin purse hand made by me with viking...</td>\n",
       "    </tr>\n",
       "    <tr>\n",
       "      <th>24</th>\n",
       "      <td>33176</td>\n",
       "      <td>Bushnell Golf Watch</td>\n",
       "      <td>2</td>\n",
       "      <td>Sports &amp; Outdoors/Golf/Golf Apparel</td>\n",
       "      <td>Bushnell</td>\n",
       "      <td>0.0</td>\n",
       "      <td>0</td>\n",
       "      <td>Mens Bushnell Golf watch NWOT If you are a gol...</td>\n",
       "    </tr>\n",
       "    <tr>\n",
       "      <th>25</th>\n",
       "      <td>33624</td>\n",
       "      <td>Michael Kors Medium Selma Dune</td>\n",
       "      <td>1</td>\n",
       "      <td>Women/Women's Handbags/Satchel</td>\n",
       "      <td>Michael Kors</td>\n",
       "      <td>0.0</td>\n",
       "      <td>0</td>\n",
       "      <td>Brand new Dark dune color Willing to create bu...</td>\n",
       "    </tr>\n",
       "    <tr>\n",
       "      <th>26</th>\n",
       "      <td>33862</td>\n",
       "      <td>Sexy cocktail dress</td>\n",
       "      <td>2</td>\n",
       "      <td>Women/Dresses/Above Knee, Mini</td>\n",
       "      <td>NaN</td>\n",
       "      <td>0.0</td>\n",
       "      <td>1</td>\n",
       "      <td>Very short comes with a thong. It was advertis...</td>\n",
       "    </tr>\n",
       "    <tr>\n",
       "      <th>27</th>\n",
       "      <td>35216</td>\n",
       "      <td>VS Bra</td>\n",
       "      <td>2</td>\n",
       "      <td>Women/Underwear/Bras</td>\n",
       "      <td>Victoria's Secret</td>\n",
       "      <td>0.0</td>\n",
       "      <td>0</td>\n",
       "      <td>34DD hot pink</td>\n",
       "    </tr>\n",
       "    <tr>\n",
       "      <th>28</th>\n",
       "      <td>38132</td>\n",
       "      <td>Vlone T-shirt Palace Bape Supreme</td>\n",
       "      <td>2</td>\n",
       "      <td>Men/Tops/T-shirts</td>\n",
       "      <td>NaN</td>\n",
       "      <td>0.0</td>\n",
       "      <td>0</td>\n",
       "      <td>Very rare vlone serpent t shirt Worn once!! Pr...</td>\n",
       "    </tr>\n",
       "    <tr>\n",
       "      <th>29</th>\n",
       "      <td>39519</td>\n",
       "      <td>Jordan shoe's Girls size 12c,used</td>\n",
       "      <td>3</td>\n",
       "      <td>Kids/Girls 2T-5T/Shoes</td>\n",
       "      <td>Nike</td>\n",
       "      <td>0.0</td>\n",
       "      <td>0</td>\n",
       "      <td>This is a used pair of Jordan shoe's girls siz...</td>\n",
       "    </tr>\n",
       "    <tr>\n",
       "      <th>...</th>\n",
       "      <td>...</td>\n",
       "      <td>...</td>\n",
       "      <td>...</td>\n",
       "      <td>...</td>\n",
       "      <td>...</td>\n",
       "      <td>...</td>\n",
       "      <td>...</td>\n",
       "      <td>...</td>\n",
       "    </tr>\n",
       "    <tr>\n",
       "      <th>844</th>\n",
       "      <td>1430798</td>\n",
       "      <td>Two Tone Leather Bag</td>\n",
       "      <td>1</td>\n",
       "      <td>Women/Women's Handbags/Messenger &amp; Crossbody</td>\n",
       "      <td>ZARA</td>\n",
       "      <td>0.0</td>\n",
       "      <td>0</td>\n",
       "      <td>Lovely two toned 3 zipper pocket chain purse</td>\n",
       "    </tr>\n",
       "    <tr>\n",
       "      <th>845</th>\n",
       "      <td>1432284</td>\n",
       "      <td>Mk Purse</td>\n",
       "      <td>4</td>\n",
       "      <td>Women/Women's Handbags/Shoulder Bag</td>\n",
       "      <td>Michael Kors</td>\n",
       "      <td>0.0</td>\n",
       "      <td>0</td>\n",
       "      <td>It's a well loved purse it has color fading in...</td>\n",
       "    </tr>\n",
       "    <tr>\n",
       "      <th>846</th>\n",
       "      <td>1440173</td>\n",
       "      <td>Brand new Kanye West Life of Pablo Hat</td>\n",
       "      <td>2</td>\n",
       "      <td>Women/Women's Accessories/Hats</td>\n",
       "      <td>Yeezy</td>\n",
       "      <td>0.0</td>\n",
       "      <td>0</td>\n",
       "      <td>Brand New Kanye West Los Angeles Hat. Bought f...</td>\n",
       "    </tr>\n",
       "    <tr>\n",
       "      <th>847</th>\n",
       "      <td>1440325</td>\n",
       "      <td>Galaxy Tab A 8.0 Case/ Windshield Cleane</td>\n",
       "      <td>1</td>\n",
       "      <td>Electronics/Computers &amp; Tablets/iPad/Tablet/eB...</td>\n",
       "      <td>Samsung</td>\n",
       "      <td>0.0</td>\n",
       "      <td>1</td>\n",
       "      <td>Super cute I-Blason armourbox kids brand new w...</td>\n",
       "    </tr>\n",
       "    <tr>\n",
       "      <th>848</th>\n",
       "      <td>1442657</td>\n",
       "      <td>Lularoe Disney TC LEGGINGS NWT</td>\n",
       "      <td>1</td>\n",
       "      <td>Women/Athletic Apparel/Pants, Tights, Leggings</td>\n",
       "      <td>LuLaRoe</td>\n",
       "      <td>0.0</td>\n",
       "      <td>0</td>\n",
       "      <td>My FAVORITE!! LOL, I have a pair and wearing t...</td>\n",
       "    </tr>\n",
       "    <tr>\n",
       "      <th>849</th>\n",
       "      <td>1445675</td>\n",
       "      <td>14g Clear on Gold Sml Prong Nipple Rings</td>\n",
       "      <td>1</td>\n",
       "      <td>NaN</td>\n",
       "      <td>NaN</td>\n",
       "      <td>0.0</td>\n",
       "      <td>1</td>\n",
       "      <td>14g Clear on Gold Small Prong Nipple Rings Bar...</td>\n",
       "    </tr>\n",
       "    <tr>\n",
       "      <th>850</th>\n",
       "      <td>1446187</td>\n",
       "      <td>Handcrafted Jadeite Frogs and Crystals</td>\n",
       "      <td>2</td>\n",
       "      <td>Women/Jewelry/Bracelets</td>\n",
       "      <td>NaN</td>\n",
       "      <td>0.0</td>\n",
       "      <td>0</td>\n",
       "      <td>Handcrafted Green Jadeite Carved Good Luck Fro...</td>\n",
       "    </tr>\n",
       "    <tr>\n",
       "      <th>851</th>\n",
       "      <td>1449089</td>\n",
       "      <td>REVLON 16hr Colorstay</td>\n",
       "      <td>1</td>\n",
       "      <td>NaN</td>\n",
       "      <td>Revlon</td>\n",
       "      <td>0.0</td>\n",
       "      <td>0</td>\n",
       "      <td>Colorstay overtime never used or tested 100% N...</td>\n",
       "    </tr>\n",
       "    <tr>\n",
       "      <th>852</th>\n",
       "      <td>1449359</td>\n",
       "      <td>PORCELAIN L.A. Girl HD Pro Concealer</td>\n",
       "      <td>1</td>\n",
       "      <td>Beauty/Makeup/Face</td>\n",
       "      <td>NaN</td>\n",
       "      <td>0.0</td>\n",
       "      <td>1</td>\n",
       "      <td>FOR OTHER AND BUNDLES, PLEASE MESSAGE ME. L.A....</td>\n",
       "    </tr>\n",
       "    <tr>\n",
       "      <th>853</th>\n",
       "      <td>1449450</td>\n",
       "      <td>VS Pink Push Up Bralette Large</td>\n",
       "      <td>1</td>\n",
       "      <td>Women/Athletic Apparel/Sports Bras</td>\n",
       "      <td>Victoria's Secret</td>\n",
       "      <td>0.0</td>\n",
       "      <td>1</td>\n",
       "      <td>New with tags Large fits 38A-C</td>\n",
       "    </tr>\n",
       "    <tr>\n",
       "      <th>854</th>\n",
       "      <td>1452401</td>\n",
       "      <td>american eagle stripped shirt</td>\n",
       "      <td>2</td>\n",
       "      <td>Women/Tops &amp; Blouses/T-Shirts</td>\n",
       "      <td>American Eagle</td>\n",
       "      <td>0.0</td>\n",
       "      <td>0</td>\n",
       "      <td>No description yet</td>\n",
       "    </tr>\n",
       "    <tr>\n",
       "      <th>855</th>\n",
       "      <td>1456460</td>\n",
       "      <td>New Frozen Shoes size 6</td>\n",
       "      <td>1</td>\n",
       "      <td>Kids/Girls 0-24 Mos/Shoes</td>\n",
       "      <td>Disney</td>\n",
       "      <td>0.0</td>\n",
       "      <td>1</td>\n",
       "      <td>New with tags. Adorable Disney's frozen tennis...</td>\n",
       "    </tr>\n",
       "    <tr>\n",
       "      <th>856</th>\n",
       "      <td>1458474</td>\n",
       "      <td>Victoria's Secret PINK bra</td>\n",
       "      <td>2</td>\n",
       "      <td>Women/Underwear/Bras</td>\n",
       "      <td>PINK</td>\n",
       "      <td>0.0</td>\n",
       "      <td>0</td>\n",
       "      <td>Never worn zebra print perfect for summer supe...</td>\n",
       "    </tr>\n",
       "    <tr>\n",
       "      <th>857</th>\n",
       "      <td>1460118</td>\n",
       "      <td>Flowy tank top plus size blouse 2xl</td>\n",
       "      <td>3</td>\n",
       "      <td>Women/Tops &amp; Blouses/Tank, Cami</td>\n",
       "      <td>NaN</td>\n",
       "      <td>0.0</td>\n",
       "      <td>0</td>\n",
       "      <td>No description yet</td>\n",
       "    </tr>\n",
       "    <tr>\n",
       "      <th>858</th>\n",
       "      <td>1461712</td>\n",
       "      <td>Nike Airmax</td>\n",
       "      <td>2</td>\n",
       "      <td>Women/Shoes/Fashion Sneakers</td>\n",
       "      <td>Nike</td>\n",
       "      <td>0.0</td>\n",
       "      <td>0</td>\n",
       "      <td>Rose gold Nike Airmax only worn twice kept in ...</td>\n",
       "    </tr>\n",
       "    <tr>\n",
       "      <th>859</th>\n",
       "      <td>1462168</td>\n",
       "      <td>Too Faced Born This Way Foundation Sand</td>\n",
       "      <td>2</td>\n",
       "      <td>Beauty/Makeup/Face</td>\n",
       "      <td>Too Faced</td>\n",
       "      <td>0.0</td>\n",
       "      <td>1</td>\n",
       "      <td>Brand new! used once and just did not match my...</td>\n",
       "    </tr>\n",
       "    <tr>\n",
       "      <th>860</th>\n",
       "      <td>1463021</td>\n",
       "      <td>faux fur coat</td>\n",
       "      <td>3</td>\n",
       "      <td>Women/Coats &amp; Jackets/Fleece Jacket</td>\n",
       "      <td>NaN</td>\n",
       "      <td>0.0</td>\n",
       "      <td>0</td>\n",
       "      <td>juniors large faux fur coat.. winter white in ...</td>\n",
       "    </tr>\n",
       "    <tr>\n",
       "      <th>861</th>\n",
       "      <td>1463174</td>\n",
       "      <td>Marc Jacobs wristlet/Wallet</td>\n",
       "      <td>3</td>\n",
       "      <td>Women/Women's Accessories/Wallets</td>\n",
       "      <td>MARC BY MARC JACOBS</td>\n",
       "      <td>0.0</td>\n",
       "      <td>0</td>\n",
       "      <td>No description yet</td>\n",
       "    </tr>\n",
       "    <tr>\n",
       "      <th>862</th>\n",
       "      <td>1463577</td>\n",
       "      <td>Soft striped pijama</td>\n",
       "      <td>2</td>\n",
       "      <td>Kids/Boys 0-24 Mos/One-Pieces</td>\n",
       "      <td>Carter's</td>\n",
       "      <td>0.0</td>\n",
       "      <td>0</td>\n",
       "      <td>No flaws just to small.</td>\n",
       "    </tr>\n",
       "    <tr>\n",
       "      <th>863</th>\n",
       "      <td>1464583</td>\n",
       "      <td>Ardell Lashes Demi Wispies</td>\n",
       "      <td>2</td>\n",
       "      <td>Beauty/Makeup/Eyes</td>\n",
       "      <td>Ardell</td>\n",
       "      <td>0.0</td>\n",
       "      <td>0</td>\n",
       "      <td>I've used one pair, but others are completely ...</td>\n",
       "    </tr>\n",
       "    <tr>\n",
       "      <th>864</th>\n",
       "      <td>1465545</td>\n",
       "      <td>Infant Timberland Boots</td>\n",
       "      <td>1</td>\n",
       "      <td>Kids/Boys 0-24 Mos/Shoes</td>\n",
       "      <td>NaN</td>\n",
       "      <td>0.0</td>\n",
       "      <td>0</td>\n",
       "      <td>Brand new infant Timberland Boots w/box. Size 3</td>\n",
       "    </tr>\n",
       "    <tr>\n",
       "      <th>865</th>\n",
       "      <td>1467318</td>\n",
       "      <td>Certified Vegan Card Case New! Blue/Gray</td>\n",
       "      <td>1</td>\n",
       "      <td>Women/Women's Accessories/Wallets</td>\n",
       "      <td>NaN</td>\n",
       "      <td>0.0</td>\n",
       "      <td>1</td>\n",
       "      <td>New w/o tags Beautiful Blue Gray CERTIFIED VEG...</td>\n",
       "    </tr>\n",
       "    <tr>\n",
       "      <th>866</th>\n",
       "      <td>1467698</td>\n",
       "      <td>Rock Revivals Men's Size 29 Jeans</td>\n",
       "      <td>3</td>\n",
       "      <td>Men/Jeans/Classic, Straight Leg</td>\n",
       "      <td>Rock Revival</td>\n",
       "      <td>0.0</td>\n",
       "      <td>0</td>\n",
       "      <td>Men's size 29 Tay slim-straight jeans.</td>\n",
       "    </tr>\n",
       "    <tr>\n",
       "      <th>867</th>\n",
       "      <td>1469806</td>\n",
       "      <td>Hp 11x Ink cartridge</td>\n",
       "      <td>1</td>\n",
       "      <td>Other/Office supplies/Ink &amp; Toner</td>\n",
       "      <td>NaN</td>\n",
       "      <td>0.0</td>\n",
       "      <td>0</td>\n",
       "      <td>new in box.</td>\n",
       "    </tr>\n",
       "    <tr>\n",
       "      <th>868</th>\n",
       "      <td>1471721</td>\n",
       "      <td>Waist Trainer Corset Size S Only</td>\n",
       "      <td>1</td>\n",
       "      <td>Sports &amp; Outdoors/Exercise/Fitness accessories</td>\n",
       "      <td>NaN</td>\n",
       "      <td>0.0</td>\n",
       "      <td>1</td>\n",
       "      <td>Material. Natural rubber cotton neoprene ,3 ho...</td>\n",
       "    </tr>\n",
       "    <tr>\n",
       "      <th>869</th>\n",
       "      <td>1474172</td>\n",
       "      <td>Homecoming or Dama ivory dress</td>\n",
       "      <td>2</td>\n",
       "      <td>Women/Dresses/Above Knee, Mini</td>\n",
       "      <td>NaN</td>\n",
       "      <td>0.0</td>\n",
       "      <td>0</td>\n",
       "      <td>Ivory formal dress. I wore this dress once for...</td>\n",
       "    </tr>\n",
       "    <tr>\n",
       "      <th>870</th>\n",
       "      <td>1474198</td>\n",
       "      <td>Tie up flannel top</td>\n",
       "      <td>3</td>\n",
       "      <td>Women/Tops &amp; Blouses/Blouse</td>\n",
       "      <td>NaN</td>\n",
       "      <td>0.0</td>\n",
       "      <td>1</td>\n",
       "      <td>I got this last year and just didnt wear it mu...</td>\n",
       "    </tr>\n",
       "    <tr>\n",
       "      <th>871</th>\n",
       "      <td>1477958</td>\n",
       "      <td>Rae Dunn Measuring Pear</td>\n",
       "      <td>3</td>\n",
       "      <td>Home/Home Décor/Home Décor Accents</td>\n",
       "      <td>NaN</td>\n",
       "      <td>0.0</td>\n",
       "      <td>0</td>\n",
       "      <td>The dash lid appears it was dropped and a piec...</td>\n",
       "    </tr>\n",
       "    <tr>\n",
       "      <th>872</th>\n",
       "      <td>1478519</td>\n",
       "      <td>4 pairs women's wool boots socks</td>\n",
       "      <td>1</td>\n",
       "      <td>Women/Shoes/Boots</td>\n",
       "      <td>NaN</td>\n",
       "      <td>0.0</td>\n",
       "      <td>1</td>\n",
       "      <td>✔️SHARE YOUR SOCKS WITH FRIENDS AND FAMILY! ✔️...</td>\n",
       "    </tr>\n",
       "    <tr>\n",
       "      <th>873</th>\n",
       "      <td>1478813</td>\n",
       "      <td>New Braven HD Waterprf Wireless</td>\n",
       "      <td>1</td>\n",
       "      <td>Electronics/TV, Audio &amp; Surveillance/Home Spea...</td>\n",
       "      <td>NaN</td>\n",
       "      <td>0.0</td>\n",
       "      <td>0</td>\n",
       "      <td>The BRV-1 gives action sports and outdoor enth...</td>\n",
       "    </tr>\n",
       "  </tbody>\n",
       "</table>\n",
       "<p>874 rows × 8 columns</p>\n",
       "</div>"
      ],
      "text/plain": [
       "     train_id                                      name  item_condition_id  \\\n",
       "0        1325      Alabama Crimson Tide Quality Lanyard                  1   \n",
       "1        2544                             Levi leggings                  3   \n",
       "2        2712              Simple Red Lace Lingerie Top                  3   \n",
       "3        3576          Turquoise 15 Pc Makeup Brush Set                  1   \n",
       "4        3761                            Girls size 7/8                  3   \n",
       "5        5237                               Nursing Bra                  3   \n",
       "6        6175     Multi Listing Bundled Package, Thanks                  2   \n",
       "7        7116      Nike Dri-Fit High Power Speed Tights                  1   \n",
       "8        7622                       Hands free earpiece                  1   \n",
       "9       10812                        Vampire candy bowl                  1   \n",
       "10      12738     Beautiful Janie and Jack loafers sz 4                  2   \n",
       "11      17617                   Coca Cola Stuffed Bears                  3   \n",
       "12      17831                    Holographic sequin bra                  3   \n",
       "13      18324          Pura 11 oz straw cup, swirl pink                  1   \n",
       "14      19909                  Obey Floral Snapback Hat                  2   \n",
       "15      20986       Sale! Varied sizes - Rock N' Roll t                  1   \n",
       "16      22876      Quay Australia Sunnies - Barely Worn                  2   \n",
       "17      24288      Fred Jackson Autographed Mini Helmet                  2   \n",
       "18      28091                  Jordan Cris Shoes Size 2                  1   \n",
       "19      28701                Lace Up Bodysuit * On Hold                  2   \n",
       "20      29240                   Baby K'Tan Wrap Carrier                  3   \n",
       "21      29702   Old Navy White Polka Dot Shorts Size 16                  2   \n",
       "22      29826  Geo Mountains/ Triangles Pillow Set Of 2                  1   \n",
       "23      33056  Viking compass leathercoinpurse guidance                  1   \n",
       "24      33176                       Bushnell Golf Watch                  2   \n",
       "25      33624            Michael Kors Medium Selma Dune                  1   \n",
       "26      33862                       Sexy cocktail dress                  2   \n",
       "27      35216                                    VS Bra                  2   \n",
       "28      38132         Vlone T-shirt Palace Bape Supreme                  2   \n",
       "29      39519         Jordan shoe's Girls size 12c,used                  3   \n",
       "..        ...                                       ...                ...   \n",
       "844   1430798                      Two Tone Leather Bag                  1   \n",
       "845   1432284                                  Mk Purse                  4   \n",
       "846   1440173    Brand new Kanye West Life of Pablo Hat                  2   \n",
       "847   1440325  Galaxy Tab A 8.0 Case/ Windshield Cleane                  1   \n",
       "848   1442657            Lularoe Disney TC LEGGINGS NWT                  1   \n",
       "849   1445675  14g Clear on Gold Sml Prong Nipple Rings                  1   \n",
       "850   1446187    Handcrafted Jadeite Frogs and Crystals                  2   \n",
       "851   1449089                     REVLON 16hr Colorstay                  1   \n",
       "852   1449359      PORCELAIN L.A. Girl HD Pro Concealer                  1   \n",
       "853   1449450            VS Pink Push Up Bralette Large                  1   \n",
       "854   1452401             american eagle stripped shirt                  2   \n",
       "855   1456460                   New Frozen Shoes size 6                  1   \n",
       "856   1458474                Victoria's Secret PINK bra                  2   \n",
       "857   1460118       Flowy tank top plus size blouse 2xl                  3   \n",
       "858   1461712                               Nike Airmax                  2   \n",
       "859   1462168   Too Faced Born This Way Foundation Sand                  2   \n",
       "860   1463021                             faux fur coat                  3   \n",
       "861   1463174               Marc Jacobs wristlet/Wallet                  3   \n",
       "862   1463577                       Soft striped pijama                  2   \n",
       "863   1464583                Ardell Lashes Demi Wispies                  2   \n",
       "864   1465545                   Infant Timberland Boots                  1   \n",
       "865   1467318  Certified Vegan Card Case New! Blue/Gray                  1   \n",
       "866   1467698         Rock Revivals Men's Size 29 Jeans                  3   \n",
       "867   1469806                      Hp 11x Ink cartridge                  1   \n",
       "868   1471721          Waist Trainer Corset Size S Only                  1   \n",
       "869   1474172            Homecoming or Dama ivory dress                  2   \n",
       "870   1474198                        Tie up flannel top                  3   \n",
       "871   1477958                   Rae Dunn Measuring Pear                  3   \n",
       "872   1478519          4 pairs women's wool boots socks                  1   \n",
       "873   1478813           New Braven HD Waterprf Wireless                  1   \n",
       "\n",
       "                                         category_name            brand_name  \\\n",
       "0                      Sports & Outdoors/Fan Shop/NCAA                   NaN   \n",
       "1                             Women/Jeans/Slim, Skinny               Levi's®   \n",
       "2                   Women/Underwear/G-Strings & Thongs                   NaN   \n",
       "3    Beauty/Tools & Accessories/Makeup Brushes & Tools                   NaN   \n",
       "4                      Kids/Girls (4+)/Tops & T-Shirts                   NaN   \n",
       "5                                 Women/Underwear/Bras  Motherhood Maternity   \n",
       "6                                Electronics/Media/DVD                   NaN   \n",
       "7       Women/Athletic Apparel/Pants, Tights, Leggings                  Nike   \n",
       "8       Electronics/Cell Phones & Accessories/Headsets                   NaN   \n",
       "9                        Home/Seasonal Décor/Halloween                   NaN   \n",
       "10                               Kids/Boys 2T-5T/Shoes        Janie and Jack   \n",
       "11                   Kids/Toys/Stuffed Animals & Plush                   NaN   \n",
       "12                                Women/Underwear/Bras                   NaN   \n",
       "13                                                 NaN                   NaN   \n",
       "14                          Men/Men's Accessories/Hats                  Obey   \n",
       "15                       Women/Tops & Blouses/T-Shirts                   NaN   \n",
       "16                Women/Women's Accessories/Sunglasses                   NaN   \n",
       "17                      Sports & Outdoors/Fan Shop/NFL                   NaN   \n",
       "18                            Kids/Boys 0-24 Mos/Shoes                  Nike   \n",
       "19                                                 NaN             Nordstrom   \n",
       "20                      Kids/Gear/Backpacks & Carriers                   All   \n",
       "21                       Women/Athletic Apparel/Shorts              Old Navy   \n",
       "22                  Home/Home Décor/Decorative Pillows                   NaN   \n",
       "23                      Handmade/Bags and Purses/Pouch                   NaN   \n",
       "24                 Sports & Outdoors/Golf/Golf Apparel              Bushnell   \n",
       "25                      Women/Women's Handbags/Satchel          Michael Kors   \n",
       "26                      Women/Dresses/Above Knee, Mini                   NaN   \n",
       "27                                Women/Underwear/Bras     Victoria's Secret   \n",
       "28                                   Men/Tops/T-shirts                   NaN   \n",
       "29                              Kids/Girls 2T-5T/Shoes                  Nike   \n",
       "..                                                 ...                   ...   \n",
       "844       Women/Women's Handbags/Messenger & Crossbody                  ZARA   \n",
       "845                Women/Women's Handbags/Shoulder Bag          Michael Kors   \n",
       "846                     Women/Women's Accessories/Hats                 Yeezy   \n",
       "847  Electronics/Computers & Tablets/iPad/Tablet/eB...               Samsung   \n",
       "848     Women/Athletic Apparel/Pants, Tights, Leggings               LuLaRoe   \n",
       "849                                                NaN                   NaN   \n",
       "850                            Women/Jewelry/Bracelets                   NaN   \n",
       "851                                                NaN                Revlon   \n",
       "852                                 Beauty/Makeup/Face                   NaN   \n",
       "853                 Women/Athletic Apparel/Sports Bras     Victoria's Secret   \n",
       "854                      Women/Tops & Blouses/T-Shirts        American Eagle   \n",
       "855                          Kids/Girls 0-24 Mos/Shoes                Disney   \n",
       "856                               Women/Underwear/Bras                  PINK   \n",
       "857                    Women/Tops & Blouses/Tank, Cami                   NaN   \n",
       "858                       Women/Shoes/Fashion Sneakers                  Nike   \n",
       "859                                 Beauty/Makeup/Face             Too Faced   \n",
       "860                Women/Coats & Jackets/Fleece Jacket                   NaN   \n",
       "861                  Women/Women's Accessories/Wallets   MARC BY MARC JACOBS   \n",
       "862                      Kids/Boys 0-24 Mos/One-Pieces              Carter's   \n",
       "863                                 Beauty/Makeup/Eyes                Ardell   \n",
       "864                           Kids/Boys 0-24 Mos/Shoes                   NaN   \n",
       "865                  Women/Women's Accessories/Wallets                   NaN   \n",
       "866                    Men/Jeans/Classic, Straight Leg          Rock Revival   \n",
       "867                  Other/Office supplies/Ink & Toner                   NaN   \n",
       "868     Sports & Outdoors/Exercise/Fitness accessories                   NaN   \n",
       "869                     Women/Dresses/Above Knee, Mini                   NaN   \n",
       "870                        Women/Tops & Blouses/Blouse                   NaN   \n",
       "871                 Home/Home Décor/Home Décor Accents                   NaN   \n",
       "872                                  Women/Shoes/Boots                   NaN   \n",
       "873  Electronics/TV, Audio & Surveillance/Home Spea...                   NaN   \n",
       "\n",
       "     price  shipping                                   item_description  \n",
       "0      0.0         1  TOP QUALITY THICK LANYARD Reversible sides wit...  \n",
       "1      0.0         0  Light wash. Hardly worn. Size 24 but fits like...  \n",
       "2      0.0         0  Very simple but cute, a little form fitting as...  \n",
       "3      0.0         1                                            1 left!  \n",
       "4      0.0         1  5 pair gap jean excellent used condition 3 chi...  \n",
       "5      0.0         0         Used a few times but was not able to nurse  \n",
       "6      0.0         1  1)Large Collection of Full Length Strawberry S...  \n",
       "7      0.0         1  Bought at Nike store in New York, Brand New, N...  \n",
       "8      0.0         0  Wireless Bluetooth hands free used with Samsun...  \n",
       "9      0.0         0                   New good condition for halloween  \n",
       "10     0.0         0                                           Like New  \n",
       "11     0.0         0  Coca Cola plush adorable bears to start your c...  \n",
       "12     0.0         0                Holographic Sequin bra 36B No brand  \n",
       "13     0.0         1  100% plastic free straw bottle easily transiti...  \n",
       "14     0.0         0  A friend sold me this hat although I don't wea...  \n",
       "15     0.0         0  Really cute sleeveless tee! Perfect for that s...  \n",
       "16     0.0         0  But directly from Quay Have worn 3 times Alway...  \n",
       "17     0.0         1  Autographed by former Bills star running back ...  \n",
       "18     0.0         1           Bought from another seller and too small  \n",
       "19     0.0         0  From nordstroms. Literally worn once but was t...  \n",
       "20     0.0         0  Super comfy infant carrier in color \"eggplant\"...  \n",
       "21     0.0         0  Old Navy white with small black polka dots wov...  \n",
       "22     0.0         0  Accent pillows liven up a room & give it insta...  \n",
       "23     0.0         1  Leather coin purse hand made by me with viking...  \n",
       "24     0.0         0  Mens Bushnell Golf watch NWOT If you are a gol...  \n",
       "25     0.0         0  Brand new Dark dune color Willing to create bu...  \n",
       "26     0.0         1  Very short comes with a thong. It was advertis...  \n",
       "27     0.0         0                                      34DD hot pink  \n",
       "28     0.0         0  Very rare vlone serpent t shirt Worn once!! Pr...  \n",
       "29     0.0         0  This is a used pair of Jordan shoe's girls siz...  \n",
       "..     ...       ...                                                ...  \n",
       "844    0.0         0       Lovely two toned 3 zipper pocket chain purse  \n",
       "845    0.0         0  It's a well loved purse it has color fading in...  \n",
       "846    0.0         0  Brand New Kanye West Los Angeles Hat. Bought f...  \n",
       "847    0.0         1  Super cute I-Blason armourbox kids brand new w...  \n",
       "848    0.0         0  My FAVORITE!! LOL, I have a pair and wearing t...  \n",
       "849    0.0         1  14g Clear on Gold Small Prong Nipple Rings Bar...  \n",
       "850    0.0         0  Handcrafted Green Jadeite Carved Good Luck Fro...  \n",
       "851    0.0         0  Colorstay overtime never used or tested 100% N...  \n",
       "852    0.0         1  FOR OTHER AND BUNDLES, PLEASE MESSAGE ME. L.A....  \n",
       "853    0.0         1                     New with tags Large fits 38A-C  \n",
       "854    0.0         0                                 No description yet  \n",
       "855    0.0         1  New with tags. Adorable Disney's frozen tennis...  \n",
       "856    0.0         0  Never worn zebra print perfect for summer supe...  \n",
       "857    0.0         0                                 No description yet  \n",
       "858    0.0         0  Rose gold Nike Airmax only worn twice kept in ...  \n",
       "859    0.0         1  Brand new! used once and just did not match my...  \n",
       "860    0.0         0  juniors large faux fur coat.. winter white in ...  \n",
       "861    0.0         0                                 No description yet  \n",
       "862    0.0         0                            No flaws just to small.  \n",
       "863    0.0         0  I've used one pair, but others are completely ...  \n",
       "864    0.0         0    Brand new infant Timberland Boots w/box. Size 3  \n",
       "865    0.0         1  New w/o tags Beautiful Blue Gray CERTIFIED VEG...  \n",
       "866    0.0         0             Men's size 29 Tay slim-straight jeans.  \n",
       "867    0.0         0                                        new in box.  \n",
       "868    0.0         1  Material. Natural rubber cotton neoprene ,3 ho...  \n",
       "869    0.0         0  Ivory formal dress. I wore this dress once for...  \n",
       "870    0.0         1  I got this last year and just didnt wear it mu...  \n",
       "871    0.0         0  The dash lid appears it was dropped and a piec...  \n",
       "872    0.0         1  ✔️SHARE YOUR SOCKS WITH FRIENDS AND FAMILY! ✔️...  \n",
       "873    0.0         0  The BRV-1 gives action sports and outdoor enth...  \n",
       "\n",
       "[874 rows x 8 columns]"
      ]
     },
     "metadata": {},
     "output_type": "display_data"
    }
   ],
   "source": [
    "samples = pd.DataFrame(train.loc[sampleZero], columns = train.keys()).reset_index(drop = True)\n",
    "print \"Chosen samples of wholesale customers dataset:\"\n",
    "display(samples)"
   ]
  },
  {
   "cell_type": "code",
   "execution_count": 13,
   "metadata": {
    "collapsed": true
   },
   "outputs": [],
   "source": [
    "train = train.drop(train[train.price <= 0.0].index)\n",
    "prices = train[\"price\"]\n",
    "features = train.drop(\"price\", axis = 1)"
   ]
  },
  {
   "cell_type": "code",
   "execution_count": 14,
   "metadata": {
    "collapsed": true
   },
   "outputs": [],
   "source": [
    "train[\"logprice\"] = np.log(train[\"price\"]+1)\n",
    "LogPrices = np.log(prices+1)"
   ]
  },
  {
   "cell_type": "code",
   "execution_count": 12,
   "metadata": {},
   "outputs": [
    {
     "data": {
      "text/plain": [
       "count    1.481661e+06\n",
       "mean     2.980816e+00\n",
       "std      7.459274e-01\n",
       "min      1.386294e+00\n",
       "25%      2.397895e+00\n",
       "50%      2.890372e+00\n",
       "75%      3.401197e+00\n",
       "max      7.605890e+00\n",
       "Name: price, dtype: float64"
      ]
     },
     "metadata": {},
     "output_type": "display_data"
    }
   ],
   "source": [
    "display(LogPrices.describe())"
   ]
  },
  {
   "cell_type": "code",
   "execution_count": 13,
   "metadata": {},
   "outputs": [
    {
     "data": {
      "image/png": "[encoded data removed]",
      "text/plain": [
       "<matplotlib.figure.Figure at 0x7f8fe2f15a10>"
      ]
     },
     "metadata": {},
     "output_type": "display_data"
    }
   ],
   "source": [
    "plt.figure(figsize=(20,10))\n",
    "plt.hist(LogPrices, bins = 50, rwidth=0.9)\n",
    "plt.title(\"Log Prices Frequency\")\n",
    "plt.xlabel(\"Log Price\")\n",
    "plt.ylabel(\"Frequency\")\n",
    "plt.show()"
   ]
  },
  {
   "cell_type": "markdown",
   "metadata": {},
   "source": [
    "The histogram above shows the prices using the log functions. As we can see, the distribution is more normal, and the range is less dispersed."
   ]
  },
  {
   "cell_type": "markdown",
   "metadata": {},
   "source": [
    "#### 2) item_condition"
   ]
  },
  {
   "cell_type": "markdown",
   "metadata": {},
   "source": [
    "Item condition is a categorical feature. It is a score from 1 to 5 that describes how the item's condition is. The range goes from \"new\" to \"poor\". The complete explanation can be found here: https://www.mercari.com/help_center/article/316/. We are going to verify the products´ condition based on this feature."
   ]
  },
  {
   "cell_type": "code",
   "execution_count": 14,
   "metadata": {},
   "outputs": [
    {
     "data": {
      "image/png": "[encoded data removed]",
      "text/plain": [
       "<matplotlib.figure.Figure at 0x7f9034e47c90>"
      ]
     },
     "metadata": {},
     "output_type": "display_data"
    },
    {
     "name": "stdout",
     "output_type": "stream",
     "text": [
      "condition 1: 640246\n",
      "condition 2: 375196\n",
      "condition 3: 431892\n",
      "condition 4: 31945\n",
      "condition 5: 2382\n"
     ]
    }
   ],
   "source": [
    "n_groups = 5\n",
    "sub1 = len(train.loc[(train['item_condition_id']==1)])\n",
    "sub2 = len(train.loc[(train['item_condition_id']==2)])\n",
    "sub3 = len(train.loc[(train['item_condition_id']==3)])\n",
    "sub4 = len(train.loc[(train['item_condition_id']==4)])\n",
    "sub5 = len(train.loc[(train['item_condition_id']==5)])\n",
    "\n",
    "objects = ('1', '2','3','4','5')\n",
    "\n",
    "y_pos = np.arange(len(objects))\n",
    "performance = [sub1, sub2, sub3, sub4, sub5]\n",
    " \n",
    "plt.bar(y_pos, performance, align='center')\n",
    "plt.xticks(y_pos, objects)\n",
    "plt.ylabel('Frequency')\n",
    "plt.xlabel('Item Condition Id')\n",
    "plt.title('Condition Values Frequency')\n",
    " \n",
    "plt.show()\n",
    "\n",
    "print('condition 1: ' + str(sub1))\n",
    "print('condition 2: ' + str(sub2))\n",
    "print('condition 3: ' + str(sub3))\n",
    "print('condition 4: ' + str(sub4))\n",
    "print('condition 5: ' + str(sub5))"
   ]
  },
  {
   "cell_type": "code",
   "execution_count": 15,
   "metadata": {},
   "outputs": [
    {
     "data": {
      "image/png": "[encoded data removed]",
      "text/plain": [
       "<matplotlib.figure.Figure at 0x7f8fe2e617d0>"
      ]
     },
     "metadata": {},
     "output_type": "display_data"
    }
   ],
   "source": [
    "sub1 = train.loc[(train['item_condition_id']==1)]\n",
    "sub2 = train.loc[(train['item_condition_id']==2)]\n",
    "sub3 = train.loc[(train['item_condition_id']==3)]\n",
    "sub4 = train.loc[(train['item_condition_id']==4)]\n",
    "sub5 = train.loc[(train['item_condition_id']==5)]\n",
    "data = [sub1.logprice,sub2.logprice,sub3.logprice,sub4.logprice,sub5.logprice]\n",
    "# multiple box plots on one figure\n",
    "plt.figure(figsize=(8,5))\n",
    "plt.xlabel(\"item condition\")\n",
    "plt.ylabel(\"Log Price\")\n",
    "plt.boxplot(data)\n",
    "plt.show()"
   ]
  },
  {
   "cell_type": "markdown",
   "metadata": {},
   "source": [
    "From the box plot above, it can be seen that the mean log price for the five conditions is similar, around 3. Also, the interquartile range(IQR) from the first four conditions are between 2.5 and 3.2. In contrast, the third quartile from the condition with value 5 is higher, above 3.5 approximately, which could mean that products with a condition equal to 5 are more expensive. Moreover, it is clear from the chart that the maximum price declines from the condition 1 to 4 constantly and climb around 0.5 in the log price with condition 5.  "
   ]
  },
  {
   "cell_type": "markdown",
   "metadata": {},
   "source": [
    "#### 3) Shipping"
   ]
  },
  {
   "cell_type": "code",
   "execution_count": 16,
   "metadata": {},
   "outputs": [
    {
     "name": "stdout",
     "output_type": "stream",
     "text": [
      "Products with shipping included: 662785\n",
      "Products without the shipping included: 818876\n"
     ]
    },
    {
     "data": {
      "image/png": "[encoded data removed]",
      "text/plain": [
       "<matplotlib.figure.Figure at 0x7f9016f8bc50>"
      ]
     },
     "metadata": {},
     "output_type": "display_data"
    }
   ],
   "source": [
    "\n",
    "n_groups = 2\n",
    "shipping = np.count_nonzero(train.shipping)\n",
    "noShipping = train.shipping.size - shipping\n",
    "frequency = (noShipping, shipping)\n",
    "\n",
    "print (\"Products with shipping included: \"+str(shipping))\n",
    "print (\"Products without the shipping included: \"+str(noShipping))\n",
    "\n",
    "objects = ('0', '1')\n",
    "y_pos = np.arange(len(objects))\n",
    "performance = [noShipping,shipping]\n",
    " \n",
    "plt.bar(y_pos, performance, align='center', alpha=0.5)\n",
    "plt.xticks(y_pos, objects)\n",
    "plt.ylabel('Frequency')\n",
    "plt.xlabel('Shipping Values')\n",
    "plt.title('Shipping Values Frequency')\n",
    " \n",
    "plt.show()"
   ]
  },
  {
   "cell_type": "code",
   "execution_count": 17,
   "metadata": {},
   "outputs": [
    {
     "data": {
      "image/png": "[encoded data removed]",
      "text/plain": [
       "<matplotlib.figure.Figure at 0x7f8fe2b7de50>"
      ]
     },
     "metadata": {},
     "output_type": "display_data"
    }
   ],
   "source": [
    "logPricesShipping =  train.loc[(train['shipping']==1)]\n",
    "logPricesNoShipping = train.loc[(train['shipping']==0)]\n",
    "\n",
    "plt.hist(logPricesShipping.logprice, bins=30, histtype='stepfilled', normed=True, color='b', label='Shipping')\n",
    "plt.hist(logPricesNoShipping.logprice, bins=30, histtype='stepfilled', normed=True, color='r', alpha=0.5, label='No Shipping')\n",
    "plt.title(\"Log Price Difference between Shipping and no Shipping\")\n",
    "plt.xlabel(\"Value\")\n",
    "plt.ylabel(\"Log Price\")\n",
    "plt.legend()\n",
    "plt.show()"
   ]
  },
  {
   "cell_type": "markdown",
   "metadata": {},
   "source": [
    "The shipping feature provides interesting information. At first glance, we observe that most of the products do not provide free shipping, the difference is 156091 items. But more interesting, contrary to what we could think that free shipping products are more expensive, the histogram above proves the opposite. The products with free shipping are cheaper than those where the client has to pay.  \n",
    "\n",
    "After this feature, we conclude the analysis of continues values. Now we are going to analyse categorical variables."
   ]
  },
  {
   "cell_type": "markdown",
   "metadata": {},
   "source": [
    "#### 4) Category Name\n",
    "\n",
    "First we can get the total number of categories. "
   ]
  },
  {
   "cell_type": "code",
   "execution_count": 18,
   "metadata": {},
   "outputs": [
    {
     "name": "stdout",
     "output_type": "stream",
     "text": [
      "The total number of unique categories is: 1287, items without category: 6314\n"
     ]
    }
   ],
   "source": [
    "val = len(pd.value_counts(train['category_name']))\n",
    "itemswithoutcategory = train['category_name'].isnull().sum()\n",
    "print \"The total number of unique categories is: \" + str(val) + \", items without category: \" + str(itemswithoutcategory)"
   ]
  },
  {
   "cell_type": "code",
   "execution_count": 19,
   "metadata": {},
   "outputs": [
    {
     "data": {
      "text/plain": [
       "Women/Athletic Apparel/Pants, Tights, Leggings                 60152\n",
       "Women/Tops & Blouses/T-Shirts                                  46349\n",
       "Beauty/Makeup/Face                                             34320\n",
       "Beauty/Makeup/Lips                                             29901\n",
       "Electronics/Video Games & Consoles/Games                       26547\n",
       "Beauty/Makeup/Eyes                                             25200\n",
       "Electronics/Cell Phones & Accessories/Cases, Covers & Skins    24668\n",
       "Women/Underwear/Bras                                           21254\n",
       "Women/Tops & Blouses/Tank, Cami                                20270\n",
       "Women/Tops & Blouses/Blouse                                    20269\n",
       "Women/Dresses/Above Knee, Mini                                 20068\n",
       "Women/Jewelry/Necklaces                                        19750\n",
       "Women/Athletic Apparel/Shorts                                  19518\n",
       "Beauty/Makeup/Makeup Palettes                                  19091\n",
       "Women/Shoes/Boots                                              18853\n",
       "Beauty/Fragrance/Women                                         18614\n",
       "Beauty/Skin Care/Face                                          15825\n",
       "Women/Women's Handbags/Shoulder Bag                            15317\n",
       "Men/Tops/T-shirts                                              15095\n",
       "Women/Dresses/Knee-Length                                      14763\n",
       "Women/Athletic Apparel/Shirts & Tops                           14730\n",
       "Women/Shoes/Sandals                                            14655\n",
       "Women/Jewelry/Bracelets                                        14487\n",
       "Men/Shoes/Athletic                                             14247\n",
       "Kids/Toys/Dolls & Accessories                                  13951\n",
       "Women/Women's Accessories/Wallets                              13607\n",
       "Women/Jeans/Slim, Skinny                                       13377\n",
       "Home/Home Décor/Home Décor Accents                             12993\n",
       "Women/Swimwear/Two-Piece                                       12754\n",
       "Women/Shoes/Athletic                                           12650\n",
       "Name: category_name, dtype: int64"
      ]
     },
     "execution_count": 19,
     "metadata": {},
     "output_type": "execute_result"
    }
   ],
   "source": [
    "categories = train['category_name'].value_counts()\n",
    "categories.head(30)"
   ]
  },
  {
   "cell_type": "markdown",
   "metadata": {},
   "source": [
    "The presented table shows the top categories in the dataset. From the 1287 categories, we observe that from the top 10, 8 categories sell products for women. Only two categories are not women related, \"Electronics/Video Games & Consoles/Games\", and \"Electronics/Cell Phones & Accessories/Cases, Covers & Skins\".Moreover, from the entire 30 first categories, just 6 categories are not intended to sell products to women.This could tell us that Mercari is focused on selling products to women, or it could help them to develop marketing campaigns for them.\n",
    "\n",
    "The given chart below presents the top 30 categories with the highest median price. Comparing the two list we can observe that the categories with high prices are not related to woman items. The highest price is located in the \"Vintage & Collectibles/Antique/Furniture\" category, however, it is just one item.\n",
    "\n",
    "In general, the 30 categories with high prices only represent the 1.45%. There are 6 with 1 item, 5 categories with less than 5 items. There are only 6 categories with more than 1000 and less than 9000 items. Looking into details, these 6 categories can be divided in two: Electronics and Handbags.\n",
    "\n",
    "This overview provides useful information to understand the distribution of the prices, with this information we can take further action in the pre-processing step. For example, we can train a model with and without the outliers and compare the results. It might be possible that the categories with few items only produce noise to our model or not.\n"
   ]
  },
  {
   "cell_type": "code",
   "execution_count": 20,
   "metadata": {
    "collapsed": true
   },
   "outputs": [],
   "source": [
    "#categoryPrice = train.groupby([\"category_name\"]).size().reset_index(name=\"count\")\n",
    "categoryPrice = train.groupby([\"category_name\"]).agg({'category_name':'size', 'price':'median'}).rename(columns={'category_name':'count','price':'median_price'})"
   ]
  },
  {
   "cell_type": "code",
   "execution_count": 21,
   "metadata": {},
   "outputs": [
    {
     "name": "stdout",
     "output_type": "stream",
     "text": [
      "Total items with the highest price by category: 21497\n",
      "This 30 categories represent just the 1.45% from the total training set\n"
     ]
    },
    {
     "data": {
      "text/html": [
       "<div>\n",
       "<style>\n",
       "    .dataframe thead tr:only-child th {\n",
       "        text-align: right;\n",
       "    }\n",
       "\n",
       "    .dataframe thead th {\n",
       "        text-align: left;\n",
       "    }\n",
       "\n",
       "    .dataframe tbody tr th {\n",
       "        vertical-align: top;\n",
       "    }\n",
       "</style>\n",
       "<table border=\"1\" class=\"dataframe\">\n",
       "  <thead>\n",
       "    <tr style=\"text-align: right;\">\n",
       "      <th></th>\n",
       "      <th>median_price</th>\n",
       "      <th>count</th>\n",
       "    </tr>\n",
       "    <tr>\n",
       "      <th>category_name</th>\n",
       "      <th></th>\n",
       "      <th></th>\n",
       "    </tr>\n",
       "  </thead>\n",
       "  <tbody>\n",
       "    <tr>\n",
       "      <th>Vintage &amp; Collectibles/Antique/Furniture</th>\n",
       "      <td>195.0</td>\n",
       "      <td>1</td>\n",
       "    </tr>\n",
       "    <tr>\n",
       "      <th>Kids/Strollers/Standard</th>\n",
       "      <td>145.0</td>\n",
       "      <td>15</td>\n",
       "    </tr>\n",
       "    <tr>\n",
       "      <th>Home/Home Appliances/Air Conditioners</th>\n",
       "      <td>131.0</td>\n",
       "      <td>42</td>\n",
       "    </tr>\n",
       "    <tr>\n",
       "      <th>Kids/Strollers/Lightweight</th>\n",
       "      <td>105.0</td>\n",
       "      <td>18</td>\n",
       "    </tr>\n",
       "    <tr>\n",
       "      <th>Sports &amp; Outdoors/Golf/Women's Golf Clubs</th>\n",
       "      <td>100.0</td>\n",
       "      <td>4</td>\n",
       "    </tr>\n",
       "  </tbody>\n",
       "</table>\n",
       "</div>"
      ],
      "text/plain": [
       "                                           median_price  count\n",
       "category_name                                                 \n",
       "Vintage & Collectibles/Antique/Furniture          195.0      1\n",
       "Kids/Strollers/Standard                           145.0     15\n",
       "Home/Home Appliances/Air Conditioners             131.0     42\n",
       "Kids/Strollers/Lightweight                        105.0     18\n",
       "Sports & Outdoors/Golf/Women's Golf Clubs         100.0      4"
      ]
     },
     "execution_count": 21,
     "metadata": {},
     "output_type": "execute_result"
    },
    {
     "data": {
      "image/png": "[encoded data removed]",
      "text/plain": [
       "<matplotlib.figure.Figure at 0x7f8fe2e7bc90>"
      ]
     },
     "metadata": {},
     "output_type": "display_data"
    }
   ],
   "source": [
    "top30 = categoryPrice.sort_values(\"median_price\", ascending=False).head(30)\n",
    "top30.plot(y=\"median_price\", kind=\"barh\", figsize=(20,10), title=\"Median price per category\")\n",
    "itemsin30categories = top30[\"count\"].sum()\n",
    "print \"Total items with the highest price by category: \" + str(itemsin30categories)\n",
    "percentageFromTotalSet = (float(itemsin30categories) * 100.0) / float(len(train.index))\n",
    "print('This 30 categories represent just the %.2f' % percentageFromTotalSet + '% from the total training set')\n",
    "top30.head()"
   ]
  },
  {
   "cell_type": "markdown",
   "metadata": {
    "collapsed": true
   },
   "source": [
    "We are going to split the feature category_name into 3 features, each containing one of the 3 levels that can be found on the original feature."
   ]
  },
  {
   "cell_type": "code",
   "execution_count": 22,
   "metadata": {
    "collapsed": true
   },
   "outputs": [],
   "source": [
    "train[['category1', 'category2', 'category3']] = train.category_name.str.split('/', expand = True, n=2)\n",
    "#train = train.drop([\"category1\",\"category2\",\"category3\",\"Category1\",\"Category2\",\"Category3\"], axis=1)"
   ]
  },
  {
   "cell_type": "code",
   "execution_count": 23,
   "metadata": {},
   "outputs": [
    {
     "name": "stdout",
     "output_type": "stream",
     "text": [
      "The total categories in the first level are 10 the second level has 113 unique values, and the last level contains 871\n"
     ]
    }
   ],
   "source": [
    "totalCategories1Level = len(pd.value_counts(train['category1']))\n",
    "totalCategories2Level = len(pd.value_counts(train['category2']))\n",
    "totalCategories3Level = len(pd.value_counts(train['category3']))\n",
    "print 'The total categories in the first level are ' +str(totalCategories1Level) + ' the second level has ' + str(totalCategories2Level) + ' unique values, and the last level contains ' + str(totalCategories3Level)"
   ]
  },
  {
   "cell_type": "code",
   "execution_count": 24,
   "metadata": {
    "collapsed": true
   },
   "outputs": [],
   "source": [
    "category1Price = train.groupby([\"category1\"]).agg({'category_name':'size', 'price':'median'}).rename(columns={'category_name':'count','price':'median_price'})"
   ]
  },
  {
   "cell_type": "code",
   "execution_count": 25,
   "metadata": {},
   "outputs": [
    {
     "data": {
      "text/html": [
       "<div>\n",
       "<style>\n",
       "    .dataframe thead tr:only-child th {\n",
       "        text-align: right;\n",
       "    }\n",
       "\n",
       "    .dataframe thead th {\n",
       "        text-align: left;\n",
       "    }\n",
       "\n",
       "    .dataframe tbody tr th {\n",
       "        vertical-align: top;\n",
       "    }\n",
       "</style>\n",
       "<table border=\"1\" class=\"dataframe\">\n",
       "  <thead>\n",
       "    <tr style=\"text-align: right;\">\n",
       "      <th></th>\n",
       "      <th>median_price</th>\n",
       "      <th>count</th>\n",
       "    </tr>\n",
       "    <tr>\n",
       "      <th>category1</th>\n",
       "      <th></th>\n",
       "      <th></th>\n",
       "    </tr>\n",
       "  </thead>\n",
       "  <tbody>\n",
       "    <tr>\n",
       "      <th>Women</th>\n",
       "      <td>19.0</td>\n",
       "      <td>663990</td>\n",
       "    </tr>\n",
       "    <tr>\n",
       "      <th>Beauty</th>\n",
       "      <td>15.0</td>\n",
       "      <td>207725</td>\n",
       "    </tr>\n",
       "    <tr>\n",
       "      <th>Kids</th>\n",
       "      <td>14.0</td>\n",
       "      <td>171555</td>\n",
       "    </tr>\n",
       "    <tr>\n",
       "      <th>Electronics</th>\n",
       "      <td>15.0</td>\n",
       "      <td>122632</td>\n",
       "    </tr>\n",
       "    <tr>\n",
       "      <th>Men</th>\n",
       "      <td>21.0</td>\n",
       "      <td>93609</td>\n",
       "    </tr>\n",
       "    <tr>\n",
       "      <th>Home</th>\n",
       "      <td>18.0</td>\n",
       "      <td>67831</td>\n",
       "    </tr>\n",
       "    <tr>\n",
       "      <th>Vintage &amp; Collectibles</th>\n",
       "      <td>16.0</td>\n",
       "      <td>46519</td>\n",
       "    </tr>\n",
       "    <tr>\n",
       "      <th>Other</th>\n",
       "      <td>14.0</td>\n",
       "      <td>45329</td>\n",
       "    </tr>\n",
       "    <tr>\n",
       "      <th>Handmade</th>\n",
       "      <td>12.0</td>\n",
       "      <td>30835</td>\n",
       "    </tr>\n",
       "    <tr>\n",
       "      <th>Sports &amp; Outdoors</th>\n",
       "      <td>16.0</td>\n",
       "      <td>25322</td>\n",
       "    </tr>\n",
       "  </tbody>\n",
       "</table>\n",
       "</div>"
      ],
      "text/plain": [
       "                        median_price   count\n",
       "category1                                   \n",
       "Women                           19.0  663990\n",
       "Beauty                          15.0  207725\n",
       "Kids                            14.0  171555\n",
       "Electronics                     15.0  122632\n",
       "Men                             21.0   93609\n",
       "Home                            18.0   67831\n",
       "Vintage & Collectibles          16.0   46519\n",
       "Other                           14.0   45329\n",
       "Handmade                        12.0   30835\n",
       "Sports & Outdoors               16.0   25322"
      ]
     },
     "execution_count": 25,
     "metadata": {},
     "output_type": "execute_result"
    },
    {
     "data": {
      "image/png": "[encoded data removed]",
      "text/plain": [
       "<matplotlib.figure.Figure at 0x7f8fe2e904d0>"
      ]
     },
     "metadata": {},
     "output_type": "display_data"
    }
   ],
   "source": [
    "category1Price.plot(y=\"median_price\", kind=\"barh\", figsize=(20,10), title=\"median price by general category\")\n",
    "category1Price.sort_values(\"count\", ascending=False)"
   ]
  },
  {
   "cell_type": "code",
   "execution_count": 26,
   "metadata": {
    "collapsed": true
   },
   "outputs": [],
   "source": [
    "subcategories = train.groupby([\"category1\", \"category2\",\"category3\"]).agg({'category_name':'size', 'price':'median'}).rename(columns={'category_name':'count','price':'median_price'})"
   ]
  },
  {
   "cell_type": "code",
   "execution_count": 27,
   "metadata": {},
   "outputs": [
    {
     "data": {
      "text/html": [
       "<div>\n",
       "<style>\n",
       "    .dataframe thead tr:only-child th {\n",
       "        text-align: right;\n",
       "    }\n",
       "\n",
       "    .dataframe thead th {\n",
       "        text-align: left;\n",
       "    }\n",
       "\n",
       "    .dataframe tbody tr th {\n",
       "        vertical-align: top;\n",
       "    }\n",
       "</style>\n",
       "<table border=\"1\" class=\"dataframe\">\n",
       "  <thead>\n",
       "    <tr style=\"text-align: right;\">\n",
       "      <th></th>\n",
       "      <th>median_price</th>\n",
       "      <th>count</th>\n",
       "    </tr>\n",
       "    <tr>\n",
       "      <th>category_name</th>\n",
       "      <th></th>\n",
       "      <th></th>\n",
       "    </tr>\n",
       "  </thead>\n",
       "  <tbody>\n",
       "    <tr>\n",
       "      <th>Vintage &amp; Collectibles/Antique/Furniture</th>\n",
       "      <td>195.0</td>\n",
       "      <td>1</td>\n",
       "    </tr>\n",
       "    <tr>\n",
       "      <th>Kids/Strollers/Standard</th>\n",
       "      <td>145.0</td>\n",
       "      <td>15</td>\n",
       "    </tr>\n",
       "    <tr>\n",
       "      <th>Home/Home Appliances/Air Conditioners</th>\n",
       "      <td>131.0</td>\n",
       "      <td>42</td>\n",
       "    </tr>\n",
       "    <tr>\n",
       "      <th>Kids/Strollers/Lightweight</th>\n",
       "      <td>105.0</td>\n",
       "      <td>18</td>\n",
       "    </tr>\n",
       "    <tr>\n",
       "      <th>Sports &amp; Outdoors/Golf/Women's Golf Clubs</th>\n",
       "      <td>100.0</td>\n",
       "      <td>4</td>\n",
       "    </tr>\n",
       "    <tr>\n",
       "      <th>Electronics/Computers &amp; Tablets/Laptops &amp; Netbooks</th>\n",
       "      <td>100.0</td>\n",
       "      <td>1783</td>\n",
       "    </tr>\n",
       "    <tr>\n",
       "      <th>Kids/Strollers/Travel Systems</th>\n",
       "      <td>95.0</td>\n",
       "      <td>90</td>\n",
       "    </tr>\n",
       "    <tr>\n",
       "      <th>Women/Women's Handbags/Satchel</th>\n",
       "      <td>91.0</td>\n",
       "      <td>2331</td>\n",
       "    </tr>\n",
       "    <tr>\n",
       "      <th>Electronics/Computers &amp; Tablets/Desktops &amp; All-In-Ones</th>\n",
       "      <td>89.5</td>\n",
       "      <td>170</td>\n",
       "    </tr>\n",
       "    <tr>\n",
       "      <th>Handmade/Woodworking/Sports</th>\n",
       "      <td>86.0</td>\n",
       "      <td>1</td>\n",
       "    </tr>\n",
       "  </tbody>\n",
       "</table>\n",
       "</div>"
      ],
      "text/plain": [
       "                                                    median_price  count\n",
       "category_name                                                          \n",
       "Vintage & Collectibles/Antique/Furniture                   195.0      1\n",
       "Kids/Strollers/Standard                                    145.0     15\n",
       "Home/Home Appliances/Air Conditioners                      131.0     42\n",
       "Kids/Strollers/Lightweight                                 105.0     18\n",
       "Sports & Outdoors/Golf/Women's Golf Clubs                  100.0      4\n",
       "Electronics/Computers & Tablets/Laptops & Netbooks         100.0   1783\n",
       "Kids/Strollers/Travel Systems                               95.0     90\n",
       "Women/Women's Handbags/Satchel                              91.0   2331\n",
       "Electronics/Computers & Tablets/Desktops & All-...          89.5    170\n",
       "Handmade/Woodworking/Sports                                 86.0      1"
      ]
     },
     "execution_count": 27,
     "metadata": {},
     "output_type": "execute_result"
    }
   ],
   "source": [
    "top30.head(10)"
   ]
  },
  {
   "cell_type": "code",
   "execution_count": 28,
   "metadata": {},
   "outputs": [
    {
     "name": "stdout",
     "output_type": "stream",
     "text": [
      "Sum of products in the top 30 categories: 623275\n",
      "This 30 categories represent the 42.07% from the total training set\n"
     ]
    },
    {
     "data": {
      "image/png": "[encoded data removed]",
      "text/plain": [
       "<matplotlib.figure.Figure at 0x7f8fe2d18890>"
      ]
     },
     "metadata": {},
     "output_type": "display_data"
    }
   ],
   "source": [
    "top30 = subcategories.sort_values(\"count\", ascending=False).head(30)\n",
    "top30.plot(y=\"median_price\", kind=\"barh\", figsize=(20,10), title=\"top count per category\")\n",
    "totalTop30 = top30[\"count\"].sum()\n",
    "print \"Sum of products in the top 30 categories: \" + str(totalTop30)\n",
    "percentageFromTotalSet = (float(totalTop30) * 100.0) / float(len(train.index))\n",
    "print('This 30 categories represent the %.2f' % percentageFromTotalSet + '% from the total training set')"
   ]
  },
  {
   "cell_type": "markdown",
   "metadata": {},
   "source": [
    "If we take a closer look at the top 30 categories that have more items, we observe that they represent the 42% of the entire dataset. Moreover, the category \"women\" by itself represent more than 40% of the entire dataset with its 663990 instances. This could help us to understand how we should conduct the modelling or splitting the information. For instance, it might be possible that we create a model per category since it is clear that there is not a normal distribution among them. In contrast, it is shown above that \"Sports & Outdoors\" only has 25322 items, representing less than the 2%. "
   ]
  },
  {
   "cell_type": "markdown",
   "metadata": {},
   "source": [
    "#### 5) Brand Name"
   ]
  },
  {
   "cell_type": "markdown",
   "metadata": {},
   "source": [
    "Most of the times, a brand define the price. That is, you expect a certain price for a product with a specific brand, compared to a similar product with another brand. For instance, it is not the same price of an iphone X with its competitor the Samsung Galaxy, or the price of a Gucci handbag with a similar one but with an unknown brand. The brand name analysis could help us to understand the price range by brand, the total number of brands and the amount of products without one. At the end we could define whether it is important or not, and the relationship with the price."
   ]
  },
  {
   "cell_type": "code",
   "execution_count": 29,
   "metadata": {
    "collapsed": true
   },
   "outputs": [],
   "source": [
    "totalBrands = len(pd.value_counts(train['brand_name']))\n",
    "itemsWithoutBrand = train['brand_name'].isnull().sum()\n",
    "percentageWithoutBrand= (float(itemsWithoutBrand) * 100.0) / float(len(train.index))\n",
    "brandPrice = train.groupby([\"brand_name\"]).agg({'brand_name':'size', 'price':'median'}).rename(columns={'brand_name':'count','price':'median_price'})"
   ]
  },
  {
   "cell_type": "code",
   "execution_count": 30,
   "metadata": {},
   "outputs": [
    {
     "name": "stdout",
     "output_type": "stream",
     "text": [
      "The total number of unique brands are: 4807, products without brands are 632336 the percentage of products without brand is  42.68%\n"
     ]
    }
   ],
   "source": [
    "print \"The total number of unique brands are: \" + str(totalBrands) + ', products without brands are ' + str(itemsWithoutBrand) + ' the percentage of products without brand is %6.2f' %(percentageWithoutBrand)+ '%'"
   ]
  },
  {
   "cell_type": "code",
   "execution_count": 31,
   "metadata": {},
   "outputs": [
    {
     "data": {
      "text/html": [
       "<div>\n",
       "<style>\n",
       "    .dataframe thead tr:only-child th {\n",
       "        text-align: right;\n",
       "    }\n",
       "\n",
       "    .dataframe thead th {\n",
       "        text-align: left;\n",
       "    }\n",
       "\n",
       "    .dataframe tbody tr th {\n",
       "        vertical-align: top;\n",
       "    }\n",
       "</style>\n",
       "<table border=\"1\" class=\"dataframe\">\n",
       "  <thead>\n",
       "    <tr style=\"text-align: right;\">\n",
       "      <th></th>\n",
       "      <th>median_price</th>\n",
       "      <th>count</th>\n",
       "    </tr>\n",
       "    <tr>\n",
       "      <th>brand_name</th>\n",
       "      <th></th>\n",
       "      <th></th>\n",
       "    </tr>\n",
       "  </thead>\n",
       "  <tbody>\n",
       "    <tr>\n",
       "      <th>AA Aquarium</th>\n",
       "      <td>3.0</td>\n",
       "      <td>1</td>\n",
       "    </tr>\n",
       "    <tr>\n",
       "      <th>Old Glory</th>\n",
       "      <td>3.0</td>\n",
       "      <td>1</td>\n",
       "    </tr>\n",
       "    <tr>\n",
       "      <th>Kae Argatherapie</th>\n",
       "      <td>3.0</td>\n",
       "      <td>1</td>\n",
       "    </tr>\n",
       "    <tr>\n",
       "      <th>A.B.S. by Allen Schwartz</th>\n",
       "      <td>3.0</td>\n",
       "      <td>1</td>\n",
       "    </tr>\n",
       "    <tr>\n",
       "      <th>Ask</th>\n",
       "      <td>3.0</td>\n",
       "      <td>1</td>\n",
       "    </tr>\n",
       "    <tr>\n",
       "      <th>Genica</th>\n",
       "      <td>3.0</td>\n",
       "      <td>1</td>\n",
       "    </tr>\n",
       "    <tr>\n",
       "      <th>Play MG</th>\n",
       "      <td>3.0</td>\n",
       "      <td>1</td>\n",
       "    </tr>\n",
       "    <tr>\n",
       "      <th>Archie Comics</th>\n",
       "      <td>3.0</td>\n",
       "      <td>1</td>\n",
       "    </tr>\n",
       "    <tr>\n",
       "      <th>Feetures!</th>\n",
       "      <td>3.0</td>\n",
       "      <td>1</td>\n",
       "    </tr>\n",
       "    <tr>\n",
       "      <th>Peanut Shell</th>\n",
       "      <td>3.0</td>\n",
       "      <td>1</td>\n",
       "    </tr>\n",
       "  </tbody>\n",
       "</table>\n",
       "</div>"
      ],
      "text/plain": [
       "                          median_price  count\n",
       "brand_name                                   \n",
       "AA Aquarium                        3.0      1\n",
       "Old Glory                          3.0      1\n",
       "Kae Argatherapie                   3.0      1\n",
       "A.B.S. by Allen Schwartz           3.0      1\n",
       "Ask                                3.0      1\n",
       "Genica                             3.0      1\n",
       "Play MG                            3.0      1\n",
       "Archie Comics                      3.0      1\n",
       "Feetures!                          3.0      1\n",
       "Peanut Shell                       3.0      1"
      ]
     },
     "execution_count": 31,
     "metadata": {},
     "output_type": "execute_result"
    }
   ],
   "source": [
    "brandPrice.sort_values(\"median_price\", ascending=True).head(10)"
   ]
  },
  {
   "cell_type": "code",
   "execution_count": 32,
   "metadata": {},
   "outputs": [
    {
     "data": {
      "text/html": [
       "<div>\n",
       "<style>\n",
       "    .dataframe thead tr:only-child th {\n",
       "        text-align: right;\n",
       "    }\n",
       "\n",
       "    .dataframe thead th {\n",
       "        text-align: left;\n",
       "    }\n",
       "\n",
       "    .dataframe tbody tr th {\n",
       "        vertical-align: top;\n",
       "    }\n",
       "</style>\n",
       "<table border=\"1\" class=\"dataframe\">\n",
       "  <thead>\n",
       "    <tr style=\"text-align: right;\">\n",
       "      <th></th>\n",
       "      <th>median_price</th>\n",
       "      <th>count</th>\n",
       "    </tr>\n",
       "    <tr>\n",
       "      <th>brand_name</th>\n",
       "      <th></th>\n",
       "      <th></th>\n",
       "    </tr>\n",
       "  </thead>\n",
       "  <tbody>\n",
       "    <tr>\n",
       "      <th>Demdaco</th>\n",
       "      <td>429.0</td>\n",
       "      <td>2</td>\n",
       "    </tr>\n",
       "    <tr>\n",
       "      <th>Auto Meter</th>\n",
       "      <td>344.0</td>\n",
       "      <td>1</td>\n",
       "    </tr>\n",
       "    <tr>\n",
       "      <th>Proenza Schouler</th>\n",
       "      <td>315.5</td>\n",
       "      <td>4</td>\n",
       "    </tr>\n",
       "    <tr>\n",
       "      <th>Oris</th>\n",
       "      <td>300.0</td>\n",
       "      <td>1</td>\n",
       "    </tr>\n",
       "    <tr>\n",
       "      <th>Longines</th>\n",
       "      <td>254.0</td>\n",
       "      <td>1</td>\n",
       "    </tr>\n",
       "    <tr>\n",
       "      <th>Blendtec</th>\n",
       "      <td>250.0</td>\n",
       "      <td>5</td>\n",
       "    </tr>\n",
       "    <tr>\n",
       "      <th>Dainese</th>\n",
       "      <td>230.0</td>\n",
       "      <td>1</td>\n",
       "    </tr>\n",
       "    <tr>\n",
       "      <th>Frédérique Constant</th>\n",
       "      <td>224.0</td>\n",
       "      <td>1</td>\n",
       "    </tr>\n",
       "    <tr>\n",
       "      <th>David Yurman</th>\n",
       "      <td>220.0</td>\n",
       "      <td>242</td>\n",
       "    </tr>\n",
       "    <tr>\n",
       "      <th>Vitamix</th>\n",
       "      <td>205.0</td>\n",
       "      <td>9</td>\n",
       "    </tr>\n",
       "  </tbody>\n",
       "</table>\n",
       "</div>"
      ],
      "text/plain": [
       "                     median_price  count\n",
       "brand_name                              \n",
       "Demdaco                     429.0      2\n",
       "Auto Meter                  344.0      1\n",
       "Proenza Schouler            315.5      4\n",
       "Oris                        300.0      1\n",
       "Longines                    254.0      1\n",
       "Blendtec                    250.0      5\n",
       "Dainese                     230.0      1\n",
       "Frédérique Constant         224.0      1\n",
       "David Yurman                220.0    242\n",
       "Vitamix                     205.0      9"
      ]
     },
     "execution_count": 32,
     "metadata": {},
     "output_type": "execute_result"
    }
   ],
   "source": [
    "brandPrice.sort_values(\"median_price\", ascending=False).head(10)\n"
   ]
  },
  {
   "cell_type": "code",
   "execution_count": 33,
   "metadata": {},
   "outputs": [
    {
     "data": {
      "text/html": [
       "<div>\n",
       "<style>\n",
       "    .dataframe thead tr:only-child th {\n",
       "        text-align: right;\n",
       "    }\n",
       "\n",
       "    .dataframe thead th {\n",
       "        text-align: left;\n",
       "    }\n",
       "\n",
       "    .dataframe tbody tr th {\n",
       "        vertical-align: top;\n",
       "    }\n",
       "</style>\n",
       "<table border=\"1\" class=\"dataframe\">\n",
       "  <thead>\n",
       "    <tr style=\"text-align: right;\">\n",
       "      <th></th>\n",
       "      <th>median_price</th>\n",
       "      <th>count</th>\n",
       "    </tr>\n",
       "    <tr>\n",
       "      <th>brand_name</th>\n",
       "      <th></th>\n",
       "      <th></th>\n",
       "    </tr>\n",
       "  </thead>\n",
       "  <tbody>\n",
       "    <tr>\n",
       "      <th>PINK</th>\n",
       "      <td>20.0</td>\n",
       "      <td>54072</td>\n",
       "    </tr>\n",
       "    <tr>\n",
       "      <th>Nike</th>\n",
       "      <td>22.0</td>\n",
       "      <td>54006</td>\n",
       "    </tr>\n",
       "    <tr>\n",
       "      <th>Victoria's Secret</th>\n",
       "      <td>19.0</td>\n",
       "      <td>48011</td>\n",
       "    </tr>\n",
       "    <tr>\n",
       "      <th>LuLaRoe</th>\n",
       "      <td>29.0</td>\n",
       "      <td>30995</td>\n",
       "    </tr>\n",
       "    <tr>\n",
       "      <th>Apple</th>\n",
       "      <td>22.0</td>\n",
       "      <td>17314</td>\n",
       "    </tr>\n",
       "    <tr>\n",
       "      <th>FOREVER 21</th>\n",
       "      <td>12.0</td>\n",
       "      <td>15178</td>\n",
       "    </tr>\n",
       "    <tr>\n",
       "      <th>Nintendo</th>\n",
       "      <td>20.0</td>\n",
       "      <td>14998</td>\n",
       "    </tr>\n",
       "    <tr>\n",
       "      <th>Lululemon</th>\n",
       "      <td>39.0</td>\n",
       "      <td>14550</td>\n",
       "    </tr>\n",
       "    <tr>\n",
       "      <th>Michael Kors</th>\n",
       "      <td>49.0</td>\n",
       "      <td>13916</td>\n",
       "    </tr>\n",
       "    <tr>\n",
       "      <th>American Eagle</th>\n",
       "      <td>14.0</td>\n",
       "      <td>13245</td>\n",
       "    </tr>\n",
       "  </tbody>\n",
       "</table>\n",
       "</div>"
      ],
      "text/plain": [
       "                   median_price  count\n",
       "brand_name                            \n",
       "PINK                       20.0  54072\n",
       "Nike                       22.0  54006\n",
       "Victoria's Secret          19.0  48011\n",
       "LuLaRoe                    29.0  30995\n",
       "Apple                      22.0  17314\n",
       "FOREVER 21                 12.0  15178\n",
       "Nintendo                   20.0  14998\n",
       "Lululemon                  39.0  14550\n",
       "Michael Kors               49.0  13916\n",
       "American Eagle             14.0  13245"
      ]
     },
     "execution_count": 33,
     "metadata": {},
     "output_type": "execute_result"
    }
   ],
   "source": [
    "brandPrice.sort_values(\"count\", ascending=False).head(10)"
   ]
  },
  {
   "cell_type": "markdown",
   "metadata": {},
   "source": [
    "There are 4807 different brands. However, only 57% of the products have a brand, the rest does not have any value in this feature. The most common brands have a range median price between \\$12 USD and \\$49 USD, and the number of items is around 13000 and 55000. It is clear that the highest and lowest median prices contain only 1 item or few of them, except with the brand \"David Yurman\" that reported 242 items. The lowest median price is \\$ 3 USD from several brands. In contrast, the most expensive median price is reported by \"Demdaco\" with \\$ 429 USD in two items."
   ]
  },
  {
   "cell_type": "markdown",
   "metadata": {},
   "source": [
    "#### 6) Item Description"
   ]
  },
  {
   "cell_type": "markdown",
   "metadata": {},
   "source": [
    "More information from the product might help to provide a better prediction. The item_description provides a brief explanation of each item which might contain valuable data to predict the price. Hence, a brief analysis is going to be conducted. First, the amount of product with and without description. Second, the minimum, maximum and mean length. Last, the relationship between the description length and the price."
   ]
  },
  {
   "cell_type": "code",
   "execution_count": 34,
   "metadata": {
    "collapsed": true
   },
   "outputs": [],
   "source": [
    "mask = train.item_description == 'No description yet'\n",
    "column_name = 'item_description'\n",
    "train.loc[mask, column_name] = np.nan\n"
   ]
  },
  {
   "cell_type": "code",
   "execution_count": 35,
   "metadata": {},
   "outputs": [
    {
     "data": {
      "text/plain": [
       "82431"
      ]
     },
     "execution_count": 35,
     "metadata": {},
     "output_type": "execute_result"
    }
   ],
   "source": [
    "train[\"item_description\"].isnull().sum()"
   ]
  },
  {
   "cell_type": "code",
   "execution_count": 36,
   "metadata": {
    "collapsed": true
   },
   "outputs": [],
   "source": [
    "train[\"item_description_length\"] =  train['item_description'].str.len()\n"
   ]
  },
  {
   "cell_type": "code",
   "execution_count": 37,
   "metadata": {},
   "outputs": [
    {
     "data": {
      "text/plain": [
       "count    1.399230e+06\n",
       "mean     1.540517e+02\n",
       "std      1.783732e+02\n",
       "min      1.000000e+00\n",
       "25%      4.600000e+01\n",
       "50%      9.200000e+01\n",
       "75%      1.830000e+02\n",
       "85%      2.720000e+02\n",
       "95%      5.420000e+02\n",
       "98%      8.030000e+02\n",
       "max      2.144000e+03\n",
       "Name: item_description_length, dtype: float64"
      ]
     },
     "execution_count": 37,
     "metadata": {},
     "output_type": "execute_result"
    }
   ],
   "source": [
    "train[\"item_description_length\"].describe(percentiles=[.25, .50, .75, .85, .95, .98])"
   ]
  },
  {
   "cell_type": "code",
   "execution_count": 38,
   "metadata": {},
   "outputs": [
    {
     "data": {
      "text/html": [
       "<div>\n",
       "<style>\n",
       "    .dataframe thead tr:only-child th {\n",
       "        text-align: right;\n",
       "    }\n",
       "\n",
       "    .dataframe thead th {\n",
       "        text-align: left;\n",
       "    }\n",
       "\n",
       "    .dataframe tbody tr th {\n",
       "        vertical-align: top;\n",
       "    }\n",
       "</style>\n",
       "<table border=\"1\" class=\"dataframe\">\n",
       "  <thead>\n",
       "    <tr style=\"text-align: right;\">\n",
       "      <th></th>\n",
       "      <th>train_id</th>\n",
       "      <th>item_condition_id</th>\n",
       "      <th>price</th>\n",
       "      <th>shipping</th>\n",
       "      <th>logprice</th>\n",
       "      <th>item_description_length</th>\n",
       "    </tr>\n",
       "  </thead>\n",
       "  <tbody>\n",
       "    <tr>\n",
       "      <th>train_id</th>\n",
       "      <td>1.000000</td>\n",
       "      <td>-0.000116</td>\n",
       "      <td>0.000516</td>\n",
       "      <td>0.000496</td>\n",
       "      <td>0.000847</td>\n",
       "      <td>-0.000049</td>\n",
       "    </tr>\n",
       "    <tr>\n",
       "      <th>item_condition_id</th>\n",
       "      <td>-0.000116</td>\n",
       "      <td>1.000000</td>\n",
       "      <td>-0.000763</td>\n",
       "      <td>-0.191214</td>\n",
       "      <td>-0.001824</td>\n",
       "      <td>-0.136440</td>\n",
       "    </tr>\n",
       "    <tr>\n",
       "      <th>price</th>\n",
       "      <td>0.000516</td>\n",
       "      <td>-0.000763</td>\n",
       "      <td>1.000000</td>\n",
       "      <td>-0.097324</td>\n",
       "      <td>0.740434</td>\n",
       "      <td>0.043197</td>\n",
       "    </tr>\n",
       "    <tr>\n",
       "      <th>shipping</th>\n",
       "      <td>0.000496</td>\n",
       "      <td>-0.191214</td>\n",
       "      <td>-0.097324</td>\n",
       "      <td>1.000000</td>\n",
       "      <td>-0.231294</td>\n",
       "      <td>0.113681</td>\n",
       "    </tr>\n",
       "    <tr>\n",
       "      <th>logprice</th>\n",
       "      <td>0.000847</td>\n",
       "      <td>-0.001824</td>\n",
       "      <td>0.740434</td>\n",
       "      <td>-0.231294</td>\n",
       "      <td>1.000000</td>\n",
       "      <td>0.021536</td>\n",
       "    </tr>\n",
       "    <tr>\n",
       "      <th>item_description_length</th>\n",
       "      <td>-0.000049</td>\n",
       "      <td>-0.136440</td>\n",
       "      <td>0.043197</td>\n",
       "      <td>0.113681</td>\n",
       "      <td>0.021536</td>\n",
       "      <td>1.000000</td>\n",
       "    </tr>\n",
       "  </tbody>\n",
       "</table>\n",
       "</div>"
      ],
      "text/plain": [
       "                         train_id  item_condition_id     price  shipping  \\\n",
       "train_id                 1.000000          -0.000116  0.000516  0.000496   \n",
       "item_condition_id       -0.000116           1.000000 -0.000763 -0.191214   \n",
       "price                    0.000516          -0.000763  1.000000 -0.097324   \n",
       "shipping                 0.000496          -0.191214 -0.097324  1.000000   \n",
       "logprice                 0.000847          -0.001824  0.740434 -0.231294   \n",
       "item_description_length -0.000049          -0.136440  0.043197  0.113681   \n",
       "\n",
       "                         logprice  item_description_length  \n",
       "train_id                 0.000847                -0.000049  \n",
       "item_condition_id       -0.001824                -0.136440  \n",
       "price                    0.740434                 0.043197  \n",
       "shipping                -0.231294                 0.113681  \n",
       "logprice                 1.000000                 0.021536  \n",
       "item_description_length  0.021536                 1.000000  "
      ]
     },
     "execution_count": 38,
     "metadata": {},
     "output_type": "execute_result"
    }
   ],
   "source": [
    "train.corr()"
   ]
  },
  {
   "cell_type": "markdown",
   "metadata": {},
   "source": [
    "From the entire products, there are 82431 that do not have any description. The maximum description length is 2144 characters including spaces, and the mean is 154. As seen in the table, there is no correlation between the price and the description length.\n",
    "\n",
    "As seen in the last part, we can count the number of products that are telling us nothing. That is, products that do not have a brand, category, and description. With this filter, we can decide whether remove the products or try to fill them with other techniques."
   ]
  },
  {
   "cell_type": "code",
   "execution_count": 39,
   "metadata": {},
   "outputs": [
    {
     "data": {
      "text/plain": [
       "<matplotlib.axes._subplots.AxesSubplot at 0x7f8f7aeb8950>"
      ]
     },
     "execution_count": 39,
     "metadata": {},
     "output_type": "execute_result"
    },
    {
     "data": {
      "image/png": "[encoded data removed]",
      "text/plain": [
       "<matplotlib.figure.Figure at 0x7f8f7b2055d0>"
      ]
     },
     "metadata": {},
     "output_type": "display_data"
    }
   ],
   "source": [
    "f, ax = plt.subplots(figsize=(10, 8))\n",
    "corr = train.corr()\n",
    "sns.heatmap(corr, mask=np.zeros_like(corr, dtype=np.bool), cmap=sns.diverging_palette(220, 10, as_cmap=True),\n",
    "            square=True, ax=ax)"
   ]
  },
  {
   "cell_type": "code",
   "execution_count": 40,
   "metadata": {
    "collapsed": true
   },
   "outputs": [],
   "source": [
    "#train.columns.values\n",
    "emptyCatBrandDesc = train.loc[(train['category_name'].isnull()) & (train[\"brand_name\"].isnull()) & (train[\"item_description\"].isnull())]"
   ]
  },
  {
   "cell_type": "markdown",
   "metadata": {},
   "source": [
    "There are 428 products that meet the condition where brand, category, and description is empty. Overall, the name is self-explanatory or contains the brand. For example, the item ID 32313 with the name \"Tommy Hilfiger Jeans\" up to a certain point we could try to find a category, but we do not know more about. Another example is the id 50147 \"PINK/Victoria Secret Sweatshirt\" in this case we can certainly know that the category is under women cloth. However, most of the products do not contain much information and we should decide whether are valuable for the model or could represent noise. Another approach could be to create a new column adding the name, category, brand, and description to have all the string features in just one column."
   ]
  },
  {
   "cell_type": "markdown",
   "metadata": {},
   "source": [
    "## Pre-processing"
   ]
  },
  {
   "cell_type": "markdown",
   "metadata": {},
   "source": [
    "In this section, we will focus on the discrete values such as name, category_name, brand_name, and item_description. Although item_condition_id and shipping are also discrete values, at this moment I do not consider that they require any treatment. Previously, we had modified the price with the Log function, and remove prices with a value equal to \\$ 0 USD due to the fact that in reality, none item could value \\$0 USD.\n",
    "\n",
    "As a first step, we can remove the train_id, category_name, item_description_length, price. Train_id does not provide any value for the model, is just a consecutive. Category_name was split in the previous section, this column is extra since we have 3 new from this one called \"category1\", \"category2\", and \"category3\". Item_description_length was created to calculate the correlation between the price and the length, after the results it is not needed anymore. Since we have the logprice, price is not required anymore.Then, we will follow some best practices to clean and process strings[1]"
   ]
  },
  {
   "cell_type": "markdown",
   "metadata": {},
   "source": [
    "[1] https://www.kdnuggets.com/2017/02/natural-language-processing-key-terms-explained.html"
   ]
  },
  {
   "cell_type": "code",
   "execution_count": 41,
   "metadata": {
    "collapsed": true
   },
   "outputs": [],
   "source": [
    "train = train.drop(['train_id', 'item_description_length', 'category_name', 'price','logprice'], axis=1)\n"
   ]
  },
  {
   "cell_type": "markdown",
   "metadata": {},
   "source": [
    "1) Set to lower case all the features"
   ]
  },
  {
   "cell_type": "code",
   "execution_count": 42,
   "metadata": {
    "collapsed": true
   },
   "outputs": [],
   "source": [
    "train['name'] = train['name'].str.lower()\n",
    "train['brand_name'] = train['brand_name'].str.lower()\n",
    "train['item_description'] = train['item_description'].str.lower()\n",
    "train['category1'] = train['category1'].str.lower()\n",
    "train['category2'] = train['category2'].str.lower()\n",
    "train['category3'] = train['category3'].str.lower()\n"
   ]
  },
  {
   "cell_type": "markdown",
   "metadata": {},
   "source": [
    "2) Remove stop words"
   ]
  },
  {
   "cell_type": "code",
   "execution_count": 43,
   "metadata": {
    "collapsed": true
   },
   "outputs": [],
   "source": [
    "stop_words = set(stopwords.words('english'))\n",
    "\n",
    "train['name_without_stop'] = train['name'].apply(lambda x: ' '.join([word for word in x.split() if word not in (stop_words)]))\n",
    "\n",
    "train['brand_name'] = train['brand_name'].astype(str)\n",
    "train['brand_without_stop'] = train['brand_name'].apply(lambda x: ' '.join([word for word in x.split() if word not in (stop_words)]))\n",
    "train['brand_without_stop'] = train['brand_without_stop'].replace('nan', '', regex=True)\n",
    "\n",
    "train['item_description'] = train['item_description'].astype(str)\n",
    "train['item_description_without_stop'] = train['item_description'].apply(lambda x: ' '.join([word for word in x.split() if word not in (stop_words)]))\n",
    "train['item_description_without_stop'] = train['item_description_without_stop'].replace('nan', '', regex=True)\n",
    "\n",
    "train['category1'] = train['category1'].astype(str)\n",
    "train['category1_without_stop'] = train['category1'].apply(lambda x: ' '.join([word for word in x.split() if word not in (stop_words)]))\n",
    "train['category1_without_stop'] = train['category1_without_stop'].replace('nan','other', regex=True)\n",
    "\n",
    "train['category2'] = train['category2'].astype(str)\n",
    "train['category2_without_stop'] = train['category2'].apply(lambda x: ' '.join([word for word in x.split() if word not in (stop_words)]))\n",
    "train['category2_without_stop'] = train['category2_without_stop'].replace('nan', '', regex=True)\n",
    "\n",
    "train['category3'] = train['category3'].astype(str)\n",
    "train['category3_without_stop'] = train['category3'].apply(lambda x: ' '.join([word for word in x.split() if word not in (stop_words)]))\n",
    "train['category3_without_stop'] = train['category3_without_stop'].replace('nan', '', regex=True)\n",
    "\n",
    "train = train.drop(['name','brand_name', 'item_description','category1','category2','category3'], axis=1)\n"
   ]
  },
  {
   "cell_type": "markdown",
   "metadata": {},
   "source": [
    "3) Remove punctuation"
   ]
  },
  {
   "cell_type": "code",
   "execution_count": 44,
   "metadata": {
    "collapsed": true
   },
   "outputs": [],
   "source": [
    "train[\"name_without_stop\"] = train['name_without_stop'].str.replace('[^\\w\\s]','')\n",
    "train[\"brand_without_stop\"] = train['brand_without_stop'].str.replace('[^\\w\\s]','')\n",
    "train[\"item_description_without_stop\"] = train['item_description_without_stop'].str.replace('[^\\w\\s]','')\n",
    "train[\"category1_without_stop\"] = train['category1_without_stop'].str.replace('[^\\w\\s]','')\n",
    "train[\"category2_without_stop\"] = train['category2_without_stop'].str.replace('[^\\w\\s]','')\n",
    "train[\"category3_without_stop\"] = train['category3_without_stop'].str.replace('[^\\w\\s]','')"
   ]
  },
  {
   "cell_type": "markdown",
   "metadata": {},
   "source": [
    "4) Lemmatization the name and item description"
   ]
  },
  {
   "cell_type": "code",
   "execution_count": 21,
   "metadata": {
    "collapsed": true
   },
   "outputs": [],
   "source": [
    "import nltk as nltk\n",
    "from nltk.corpus import wordnet\n",
    "from nltk.stem.wordnet import WordNetLemmatizer\n",
    "lemmatizer = WordNetLemmatizer()\n",
    "\n",
    "def get_wordnet_pos(treebank_tag):\n",
    "    if treebank_tag.startswith('J'):\n",
    "        return wordnet.ADJ\n",
    "    elif treebank_tag.startswith('V'):\n",
    "        return wordnet.VERB\n",
    "    elif treebank_tag.startswith('N'):\n",
    "        return wordnet.NOUN\n",
    "    elif treebank_tag.startswith('R'):\n",
    "        return wordnet.ADV\n",
    "    else:\n",
    "        return wordnet.NOUN # for easy if-statement \n",
    "    \n",
    "def LemaWord(word):\n",
    "    tagged = nltk.tag.pos_tag([word])\n",
    "    word, tag = tagged[0]\n",
    "    wntag = get_wordnet_pos(tag)\n",
    "    lemma = lemmatizer.lemmatize(word, pos=wntag)\n",
    "    return lemma\n",
    "        \n",
    "#train['name_without_stop'] = train['name_without_stop'].apply(lambda x: ' '.join([ LemaWord(word) for word in x.split()]))\n",
    "#train['item_description_without_stop'] = train['item_description_without_stop'].apply(lambda x: ' '.join([LemaWord(word) for word in x.split()]))\n"
   ]
  },
  {
   "cell_type": "markdown",
   "metadata": {},
   "source": [
    "The lemmatizer process takes a lot of time, in order to not running everytime, I stored the dataframe in a csv."
   ]
  },
  {
   "cell_type": "code",
   "execution_count": 45,
   "metadata": {},
   "outputs": [
    {
     "name": "stderr",
     "output_type": "stream",
     "text": [
      "/home/casertillo/anaconda2/lib/python2.7/site-packages/numpy/lib/arraysetops.py:463: FutureWarning: elementwise comparison failed; returning scalar instead, but in the future will perform elementwise comparison\n",
      "  mask |= (ar1 == a)\n"
     ]
    }
   ],
   "source": [
    "#train.to_csv(path_or_buf=\"../trainAfterLemmalizer.csv\", sep=\",\", )\n",
    "train = pd.read_csv('trainAfterLemmalizer.csv', index_col=0)"
   ]
  },
  {
   "cell_type": "code",
   "execution_count": 46,
   "metadata": {
    "collapsed": true
   },
   "outputs": [],
   "source": [
    "#set all features as string\n",
    "train['item_condition_id'] = train['item_condition_id'].astype(str)\n",
    "train['shipping'] = train['shipping'].astype(str)\n",
    "train['name_without_stop'] = train['name_without_stop'].fillna('').astype(str)\n",
    "train['brand_without_stop'] = train['brand_without_stop'].fillna('').astype(str)\n",
    "train['item_description_without_stop'] = train['item_description_without_stop'].fillna('').astype(str)\n",
    "train['category1_without_stop'] = train['category1_without_stop'].fillna('').astype(str)\n",
    "train['category2_without_stop'] = train['category2_without_stop'].fillna('').astype(str)\n",
    "train['category3_without_stop'] = train['category3_without_stop'].fillna('').astype(str)"
   ]
  },
  {
   "cell_type": "markdown",
   "metadata": {},
   "source": [
    "After these 4 steps conducted in the name and description we can review them again to understand their distribution, the unique words, their frequency, etc."
   ]
  },
  {
   "cell_type": "code",
   "execution_count": 47,
   "metadata": {
    "collapsed": true
   },
   "outputs": [],
   "source": [
    "from nltk.probability import FreqDist\n",
    "from nltk.tokenize import word_tokenize\n",
    "\n",
    "train['full_description'] = train['name_without_stop'] + ' ' + train['item_description_without_stop'] \n",
    "\n",
    "#split the sentence to get each word as value in a list.\n",
    "train['name_without_stop'] = train['name_without_stop'].str.split()\n",
    "train['item_description_without_stop'] = train['item_description_without_stop'].str.split()\n",
    "\n",
    "#the name and description sometimes got the same \n",
    "train['full_description'] = train['full_description'].str.split()\n"
   ]
  },
  {
   "cell_type": "code",
   "execution_count": 48,
   "metadata": {
    "collapsed": true
   },
   "outputs": [],
   "source": [
    "#count the number of words in each feature\n",
    "train['count_name'] = train['name_without_stop'].apply(lambda x: len(x))\n",
    "train['count_description'] = train['item_description_without_stop'].apply(lambda x: len(x))"
   ]
  },
  {
   "cell_type": "code",
   "execution_count": 49,
   "metadata": {},
   "outputs": [
    {
     "data": {
      "text/plain": [
       "count    1.481661e+06\n",
       "mean     4.125052e+00\n",
       "std      1.523331e+00\n",
       "min      0.000000e+00\n",
       "50%      4.000000e+00\n",
       "75%      5.000000e+00\n",
       "85%      6.000000e+00\n",
       "95%      7.000000e+00\n",
       "max      1.300000e+01\n",
       "Name: count_name, dtype: float64"
      ]
     },
     "execution_count": 49,
     "metadata": {},
     "output_type": "execute_result"
    }
   ],
   "source": [
    "train[\"count_name\"].describe(percentiles=[.5, .75, .85, .95])"
   ]
  },
  {
   "cell_type": "code",
   "execution_count": 50,
   "metadata": {},
   "outputs": [
    {
     "data": {
      "text/plain": [
       "count    1.481661e+06\n",
       "mean     1.773811e+01\n",
       "std      2.030410e+01\n",
       "min      0.000000e+00\n",
       "50%      1.100000e+01\n",
       "75%      2.100000e+01\n",
       "85%      3.100000e+01\n",
       "90%      4.100000e+01\n",
       "95%      6.100000e+01\n",
       "max      1.930000e+02\n",
       "Name: count_description, dtype: float64"
      ]
     },
     "execution_count": 50,
     "metadata": {},
     "output_type": "execute_result"
    }
   ],
   "source": [
    "train[\"count_description\"].describe(percentiles=[.5, .75, .85, .9, .95])"
   ]
  },
  {
   "cell_type": "code",
   "execution_count": 51,
   "metadata": {},
   "outputs": [
    {
     "name": "stdout",
     "output_type": "stream",
     "text": [
      "Instances with a name longer than 7 words: 15317\n",
      "Instances with a description longer than 61 words: 72297\n",
      "Instances with both, a name > 7 and a description > 61 words: 2016\n"
     ]
    }
   ],
   "source": [
    "print('Instances with a name longer than 7 words: ' + str(len(train.loc[train['count_name'] > 7])))\n",
    "print('Instances with a description longer than 61 words: ' + str(len(train.loc[train['count_description'] > 61])))\n",
    "print('Instances with both, a name > 7 and a description > 61 words: ' + str(len(train.loc[(train['count_description'] > 61) & (train['count_name'] > 7)])))"
   ]
  },
  {
   "cell_type": "markdown",
   "metadata": {},
   "source": [
    "As shown above, the average number of words for the name and de description are 41.2 and 17.7 respectively. Up to the 95%, the name is from 7 words and the description is 61. Although, we can find names with 13 words and descriptions with 193. After a simple count in total, there are 87614 unique instances that have either a name longer than 7 words or a description that exceeds 61 words. In contrast, there are 2016 instances where both conditions are met.\n",
    "\n",
    "With this information, we can reduce the number of words in those instances and try to optimize the processing time. I had to conduct this analysis after several attempts to run different models that never finished due to the number of dimensions."
   ]
  },
  {
   "cell_type": "code",
   "execution_count": 52,
   "metadata": {
    "collapsed": true
   },
   "outputs": [],
   "source": [
    "#Since the name and the description have similarities, \n",
    "#I will use the full_description to analyse the usage of the words in both features.\n",
    "full_description = train['full_description'].tolist()"
   ]
  },
  {
   "cell_type": "code",
   "execution_count": 53,
   "metadata": {
    "collapsed": true
   },
   "outputs": [],
   "source": [
    "import itertools\n",
    "#each instance has a list of full_description, we will conver it in a flat list.\n",
    "merged = list(itertools.chain(*full_description))"
   ]
  },
  {
   "cell_type": "code",
   "execution_count": 54,
   "metadata": {
    "collapsed": true
   },
   "outputs": [],
   "source": [
    "from nltk.probability import FreqDist\n",
    "fdist = FreqDist(merged)"
   ]
  },
  {
   "cell_type": "code",
   "execution_count": 55,
   "metadata": {},
   "outputs": [
    {
     "name": "stdout",
     "output_type": "stream",
     "text": [
      "In total there are 334316 unique words\n",
      "From these words, they are used 32393798 times, around 96.9 each on average.\n"
     ]
    }
   ],
   "source": [
    "unique_words = len(fdist)\n",
    "words_used = len(merged)\n",
    "freq = float(words_used)/float(unique_words)\n",
    "print('In total there are ' + str(unique_words) + ' unique words') \n",
    "print('From these words, they are used ' + str(words_used) + ' times, around ' +str(round(freq, 2)) + ' each on average.') "
   ]
  },
  {
   "cell_type": "code",
   "execution_count": 56,
   "metadata": {},
   "outputs": [
    {
     "name": "stdout",
     "output_type": "stream",
     "text": [
      "There are 205159 words with only one occurance. That is, used only one time, more than half of the words. Around   61% of the words are used only one time\n"
     ]
    }
   ],
   "source": [
    "print('There are ' + str(len(fdist.hapaxes())) + ' words with only one occurance. That is, used only one time, more than half of the words. Around   61% of the words are used only one time')"
   ]
  },
  {
   "cell_type": "code",
   "execution_count": 57,
   "metadata": {},
   "outputs": [
    {
     "data": {
      "text/plain": [
       "[('new', 566352),\n",
       " ('size', 551746),\n",
       " ('free', 294255),\n",
       " ('brand', 290607),\n",
       " ('condition', 258852),\n",
       " ('use', 234685),\n",
       " ('shipping', 234534),\n",
       " ('bundle', 224183),\n",
       " ('rm', 214864),\n",
       " ('pink', 201385),\n",
       " ('black', 199311),\n",
       " ('worn', 186995),\n",
       " ('color', 175879),\n",
       " ('price', 174810),\n",
       " ('2', 172304),\n",
       " ('never', 158947),\n",
       " ('great', 155574),\n",
       " ('1', 139198),\n",
       " ('small', 137404),\n",
       " ('one', 136953)]"
      ]
     },
     "execution_count": 57,
     "metadata": {},
     "output_type": "execute_result"
    }
   ],
   "source": [
    "#most frequent words\n",
    "fdist.most_common(20)"
   ]
  },
  {
   "cell_type": "markdown",
   "metadata": {},
   "source": [
    "The top 2 words which are 'new' and 'size' are used in more than a third of the entire instances each. Then, the 8 following words 'free', 'brand', 'condition', 'use', 'shipping', 'bundle', 'rm', 'pink' are used more than 200 thousand times. As seen, most of the words are related to the condition, the shipping, and colours. "
   ]
  },
  {
   "cell_type": "code",
   "execution_count": 58,
   "metadata": {},
   "outputs": [
    {
     "data": {
      "image/png": "[encoded data removed]",
      "text/plain": [
       "<matplotlib.figure.Figure at 0x7f8f5748ad50>"
      ]
     },
     "metadata": {},
     "output_type": "display_data"
    }
   ],
   "source": [
    "fdist.plot(50, cumulative=True)"
   ]
  },
  {
   "cell_type": "code",
   "execution_count": 59,
   "metadata": {},
   "outputs": [
    {
     "name": "stdout",
     "output_type": "stream",
     "text": [
      "The top 50 words cover around 24.7% of the total words used.\n"
     ]
    }
   ],
   "source": [
    "print('The top 50 words cover around ' + str(round((8000000.0/len(merged))*100, 2)) + '% of the total words used.')"
   ]
  },
  {
   "cell_type": "markdown",
   "metadata": {},
   "source": [
    "5) Conduct One-Hot encoding"
   ]
  },
  {
   "cell_type": "code",
   "execution_count": 9,
   "metadata": {
    "collapsed": true
   },
   "outputs": [],
   "source": [
    "#Remove the exceding words in the name and description\n",
    "train['name_without_stop'] = train['name_without_stop'].apply(lambda x: x[:7] if len(x) > 7 else x)\n",
    "train['item_description_without_stop'] = train['item_description_without_stop'].apply(lambda x: x[:61] if len(x) > 61 else x)"
   ]
  },
  {
   "cell_type": "code",
   "execution_count": 35,
   "metadata": {},
   "outputs": [
    {
     "name": "stdout",
     "output_type": "stream",
     "text": [
      "In total there are 131516 unique words in the name\n",
      "From these words, they are used 6095108 times, around 46.34 each on average.\n",
      "In total there are 256793 unique words in the description\n",
      "From these words, they are used 24480565 times, around 95.33 each on average.\n"
     ]
    }
   ],
   "source": [
    "#Here we conduct an analysis as the previous one with the full description\n",
    "#But with only the name and description to determine the vector size of each one\n",
    "name_list = train['name_without_stop'].tolist()\n",
    "description_list = train['item_description_without_stop'].tolist()\n",
    "\n",
    "merge_name = list(itertools.chain(*name_list))\n",
    "merge_description = list(itertools.chain(*description_list))\n",
    "\n",
    "fdistname = FreqDist(merge_name)\n",
    "fdistdescription = FreqDist(merge_description)\n",
    "\n",
    "unique_words = len(fdistname)\n",
    "words_used = len(merge_name)\n",
    "freq = float(words_used)/float(unique_words)\n",
    "print('In total there are ' + str(unique_words) + ' unique words in the name') \n",
    "print('From these words, they are used ' + str(words_used) + ' times, around ' +str(round(freq, 2)) + ' each on average.') \n",
    "\n",
    "unique_words = len(fdistdescription)\n",
    "words_used = len(merge_description)\n",
    "freq = float(words_used)/float(unique_words)\n",
    "print('In total there are ' + str(unique_words) + ' unique words in the description') \n",
    "print('From these words, they are used ' + str(words_used) + ' times, around ' +str(round(freq, 2)) + ' each on average.') "
   ]
  },
  {
   "cell_type": "code",
   "execution_count": null,
   "metadata": {
    "collapsed": true
   },
   "outputs": [],
   "source": [
    "print('There are ' + str(len(fdistname.hapaxes())) + ' words used only once in the name, around 62%. ')\n",
    "print('There are ' + str(len(fdistdescription.hapaxes()))+ ' words used only once in the description, around 62%')"
   ]
  },
  {
   "cell_type": "markdown",
   "metadata": {},
   "source": [
    "After we reduced the number of words in the name and the description to the 95% of the instances. We conducted the same analysis in order to know the word usage and specify the maximum number of dimension in each feature. If we conduct a simple vectorization in the name and description the total amount of vectors could be of 388309 plus the other features. However, most of the values would be zeros. \n",
    "\n",
    "As mentioned before, I had to conduct this analysis since I had tried to work with the entire dimensions without success. Now, we can reduce the number of dimensions up to 48 percent in the name and description. Hence, the maximum features in the name after vectorization would be 49976 and the description 97581, based on words that are used more than once. "
   ]
  },
  {
   "cell_type": "code",
   "execution_count": 10,
   "metadata": {
    "collapsed": true
   },
   "outputs": [],
   "source": [
    "#TfidfVectorizer expect a list of strings. Thus, we move back the list of words to a string\n",
    "train['name_without_stop'] = train['name_without_stop'].apply(lambda x: ' '.join([word for word in x]))\n",
    "train['item_description_without_stop'] = train['item_description_without_stop'].apply(lambda x: ' '.join([word for word in x]))\n",
    "\n",
    "train[\"item_description_without_stop\"] = train['item_description_without_stop'].str.replace('nan','')\n",
    "train['categories'] = train['category2_without_stop'] + ' ' + train['category3_without_stop']\n",
    "\n",
    "train = train.drop(['full_description', 'count_name','count_description', 'category2_without_stop','category3_without_stop'], axis=1)\n",
    "\n",
    "train.rename(columns={'name_without_stop': 'name', 'item_description_without_stop' : 'description','item_condition_id': 'condition', 'category1_without_stop': 'category', 'brand_without_stop':'brand'}, inplace=True)"
   ]
  },
  {
   "cell_type": "code",
   "execution_count": 5,
   "metadata": {
    "collapsed": true
   },
   "outputs": [],
   "source": [
    "default_preprocessor = CountVectorizer().build_preprocessor()\n",
    "def build_preprocessor(field):\n",
    "    field_idx = list(train.columns).index(field)\n",
    "    return lambda x: default_preprocessor(x[field_idx])"
   ]
  },
  {
   "cell_type": "code",
   "execution_count": 36,
   "metadata": {
    "scrolled": true
   },
   "outputs": [
    {
     "name": "stdout",
     "output_type": "stream",
     "text": [
      "CPU times: user 9min 27s, sys: 14.9 s, total: 9min 42s\n",
      "Wall time: 10min 58s\n"
     ]
    }
   ],
   "source": [
    "%%time\n",
    "\n",
    "Features = FeatureUnion([('condition', \n",
    "                          CountVectorizer(token_pattern='\\d+',\n",
    "                                          preprocessor=build_preprocessor('condition'))),\n",
    "                         ('shipping', \n",
    "                          CountVectorizer(token_pattern='\\d+',\n",
    "                                          preprocessor=build_preprocessor('shipping'))),\n",
    "                        ('brand', \n",
    "                          CountVectorizer(token_pattern='\\d+',\n",
    "                                          preprocessor=build_preprocessor('brand'))),\n",
    "                        ('category', \n",
    "                          CountVectorizer(token_pattern='.+',\n",
    "                                          preprocessor=build_preprocessor('category'))),\n",
    "                        ('categories', \n",
    "                          CountVectorizer(token_pattern='.+',\n",
    "                                          preprocessor=build_preprocessor('categories'))),\n",
    "                        ('name', \n",
    "                          TfidfVectorizer(ngram_range=(1, 2),\n",
    "                                          max_features=49000,\n",
    "                                          preprocessor=build_preprocessor('name'))),\n",
    "                        ('description', \n",
    "                          TfidfVectorizer(ngram_range=(2, 3),\n",
    "                                          max_features=97000,\n",
    "                                          preprocessor=build_preprocessor('description'))),\n",
    "                        ])\n",
    "\n",
    "Features.fit(train.values)\n",
    "\n",
    "#Source: https://www.kaggle.com/lopuhin/eli5-for-mercari"
   ]
  },
  {
   "cell_type": "code",
   "execution_count": 16,
   "metadata": {},
   "outputs": [
    {
     "name": "stdout",
     "output_type": "stream",
     "text": [
      "CPU times: user 6min 23s, sys: 6.34 s, total: 6min 29s\n",
      "Wall time: 6min 27s\n"
     ]
    }
   ],
   "source": [
    "%%time\n",
    "X_train = Features.transform(train.values).astype(np.float32)\n",
    "X_train"
   ]
  },
  {
   "cell_type": "code",
   "execution_count": 17,
   "metadata": {},
   "outputs": [
    {
     "name": "stdout",
     "output_type": "stream",
     "text": [
      "Once deleted, variables cannot be recovered. Proceed (y/[n])?  y\n"
     ]
    }
   ],
   "source": [
    "reset_selective Features"
   ]
  },
  {
   "cell_type": "code",
   "execution_count": 15,
   "metadata": {
    "collapsed": true
   },
   "outputs": [],
   "source": [
    "#np.savez('X_trainMatrix', data=X_train.data, indices=X_train.indices,\n",
    "#             indptr=X_train.indptr, shape=X_train.shape)\n",
    "\n",
    "def save_sparse_csr(filename, sparseMatrix):\n",
    "    np.savez(filename, data=sparseMatrix.data, indices=sparseMatrix.indices,\n",
    "             indptr=sparseMatrix.indptr, shape=sparseMatrix.shape)\n",
    "    \n",
    "def load_sparse_csr(filename):\n",
    "    # here we need to add .npz extension manually\n",
    "    loader = np.load(filename + '.npz')\n",
    "    return csr_matrix((loader['data'], loader['indices'], loader['indptr']),\n",
    "                      shape=loader['shape'])\n",
    "\n"
   ]
  },
  {
   "cell_type": "code",
   "execution_count": null,
   "metadata": {
    "collapsed": true
   },
   "outputs": [],
   "source": [
    "save_sparse_csr('X_trainMatrix', X_train)"
   ]
  },
  {
   "cell_type": "code",
   "execution_count": 9,
   "metadata": {
    "collapsed": true
   },
   "outputs": [],
   "source": [
    "X_train = load_sparse_csr('X_trainMatrix')"
   ]
  },
  {
   "cell_type": "markdown",
   "metadata": {},
   "source": [
    "## Preliminary Results"
   ]
  },
  {
   "cell_type": "markdown",
   "metadata": {
    "collapsed": true
   },
   "source": [
    "In this section, the baseline model is presented. During the proposal, the selected model was the Nearest Neighbors regression as it is considered as not optimal, based on the current literature.\n",
    "\n",
    "   There is one step before conducting the regression with NN, which is to define the number of clusters. The number of general categories was selected for simplicity, the default number of 5 could have been selected as well. However, after few testing, the number of 10 provided better results. \n",
    "  "
   ]
  },
  {
   "cell_type": "markdown",
   "metadata": {},
   "source": [
    "1) Metric function"
   ]
  },
  {
   "cell_type": "code",
   "execution_count": 16,
   "metadata": {
    "collapsed": true
   },
   "outputs": [],
   "source": [
    "def rmsle(y, y_pred):\n",
    "    assert len(y) == len(y_pred)\n",
    "    to_sum = [(y_pred[i] - y[i]) ** 2.0 for i,pred in enumerate(y_pred)]\n",
    "    return (sum(to_sum) * (1.0/len(y))) ** 0.5\n",
    "\n",
    "#Source: https://www.kaggle.com/marknagelberg/rmsle-function"
   ]
  },
  {
   "cell_type": "markdown",
   "metadata": {},
   "source": [
    "2) Split train and test"
   ]
  },
  {
   "cell_type": "code",
   "execution_count": 10,
   "metadata": {
    "collapsed": true
   },
   "outputs": [],
   "source": [
    "X_train = np.around(X_train, 5)\n",
    "LogPrices = np.around(LogPrices, 5)\n",
    "X_train = X_train.astype(np.float32)\n",
    "LogPrices = LogPrices.astype(np.float32)\n",
    "x_train, x_test, y_train, y_test = train_test_split(X_train, LogPrices, train_size=0.80, random_state=42)\n"
   ]
  },
  {
   "cell_type": "code",
   "execution_count": 11,
   "metadata": {},
   "outputs": [
    {
     "data": {
      "text/plain": [
       "33"
      ]
     },
     "execution_count": 11,
     "metadata": {},
     "output_type": "execute_result"
    }
   ],
   "source": [
    "del X_train, train, prices, features, LogPrices\n",
    "gc.collect()\n"
   ]
  },
  {
   "cell_type": "markdown",
   "metadata": {},
   "source": [
    "3) Results with default settings expect number of neighbors "
   ]
  },
  {
   "cell_type": "code",
   "execution_count": 9,
   "metadata": {},
   "outputs": [
    {
     "name": "stdout",
     "output_type": "stream",
     "text": [
      "CPU times: user 292 ms, sys: 116 ms, total: 408 ms\n",
      "Wall time: 1.06 s\n"
     ]
    }
   ],
   "source": [
    "%%time\n",
    "#train\n",
    "#number 10 is based on the first 10 categories\n",
    "neigh = KNeighborsRegressor(n_neighbors=10)\n",
    "neigh.fit(x_train, y_train)"
   ]
  },
  {
   "cell_type": "markdown",
   "metadata": {},
   "source": [
    "Due to the amount of dimensions and file size we create a temporary file to have it in memory"
   ]
  },
  {
   "cell_type": "code",
   "execution_count": 30,
   "metadata": {
    "collapsed": true
   },
   "outputs": [],
   "source": [
    "temp_folder = tempfile.mkdtemp()\n",
    "filename = os.path.join(temp_folder, 'joblib_test.mmap')\n",
    "if os.path.exists(filename): os.unlink(filename)\n",
    "_ = dump(x_test, filename)\n",
    "large_memmap = load(filename, mmap_mode='r+')"
   ]
  },
  {
   "cell_type": "code",
   "execution_count": 31,
   "metadata": {},
   "outputs": [
    {
     "data": {
      "text/plain": [
       "0"
      ]
     },
     "execution_count": 31,
     "metadata": {},
     "output_type": "execute_result"
    }
   ],
   "source": [
    "del x_train, y_train, x_test\n",
    "gc.collect()"
   ]
  },
  {
   "cell_type": "markdown",
   "metadata": {},
   "source": [
    "These functions were created to run the prediction in parallel. After testing, a single thread could only support around 400 instances and used to take around 5 minutes. More instances threw a memory error. "
   ]
  },
  {
   "cell_type": "code",
   "execution_count": 12,
   "metadata": {},
   "outputs": [
    {
     "name": "stdout",
     "output_type": "stream",
     "text": [
      "CPU times: user 0 ns, sys: 0 ns, total: 0 ns\n",
      "Wall time: 40.1 µs\n"
     ]
    }
   ],
   "source": [
    "%%time\n",
    "def _predict(estimator, X, method, start, stop, max_size):\n",
    "    if stop > max_size:\n",
    "        stop = max_size\n",
    "    return getattr(estimator, method)(X[start:stop])\n",
    "\n",
    "def parallel_predict(estimator, X, n_jobs=1, method='predict', batches_per_job=4):\n",
    "    n_jobs = max(n_jobs, 1)  \n",
    "    n_batches = batches_per_job * n_jobs\n",
    "    n_samples = X.shape[0]\n",
    "    batch_size = int(np.ceil(n_samples / n_batches))\n",
    "    parallel = Parallel(n_jobs=n_jobs)\n",
    "    results = parallel(delayed(_predict)(estimator, X, method, i, i + batch_size, n_samples)\n",
    "                       for i in range(0, n_samples, batch_size))\n",
    "    if sp.issparse(results[0]):\n",
    "        return sp.vstack(results)\n",
    "    return np.concatenate(results)\n",
    "#reference https://github.com/scikit-learn/scikit-learn/issues/7448"
   ]
  },
  {
   "cell_type": "code",
   "execution_count": 13,
   "metadata": {},
   "outputs": [
    {
     "name": "stdout",
     "output_type": "stream",
     "text": [
      "CPU times: user 12min 20s, sys: 2.53 s, total: 12min 23s\n",
      "Wall time: 29min 5s\n"
     ]
    }
   ],
   "source": [
    "%%time\n",
    "predictions = parallel_predict(neigh, large_memmap[:40000], 6, 'predict', 100)\n"
   ]
  },
  {
   "cell_type": "code",
   "execution_count": 14,
   "metadata": {},
   "outputs": [
    {
     "name": "stdout",
     "output_type": "stream",
     "text": [
      "The rmsle for the default values with KNN regressions is: 0.559637939517\n"
     ]
    }
   ],
   "source": [
    "print \"The rmsle for the default values with KNN regressions is: \" + str(rmsle(y_test[:40000].tolist(), predictions))"
   ]
  },
  {
   "cell_type": "code",
   "execution_count": 35,
   "metadata": {},
   "outputs": [
    {
     "data": {
      "text/plain": [
       "0"
      ]
     },
     "execution_count": 35,
     "metadata": {},
     "output_type": "execute_result"
    }
   ],
   "source": [
    "#os.remove(filename)\n",
    "del large_memmap\n",
    "gc.collect()"
   ]
  },
  {
   "cell_type": "markdown",
   "metadata": {},
   "source": [
    "As seen, the K-NN provides a rmsle of 0.5596, which is better than many results found in the leaders' board in the kaggle competition, but far from a competitive one. \n",
    "\n",
    "An important aspect of this section is the use of memory and work with parallel functions. Due to the dimension size, training and testing size, a lot effort had to be invested to test more than 400 instances as mentioned previously. Attempts to predict the entire testing set were made but either had memory errors or the process never ended.\n",
    "\n",
    "The maximum testing instances were 40000 without crashing and in an acceptable period of time, 100 times more than a predefined configuration was able to work with. But more importantly, was able to predict the values without crashing which was the main problem.\n",
    "\n",
    "The computer specifications are: <br>\n",
    "OS: Ubuntu 16.04 64-bit <br>\n",
    "Processor: Intel® Core™ i7-2670QM CPU @ 2.20GHz × 8 <br>\n",
    "Graphics: GeForce GT 525M/PCIe/SSE2 <br>\n",
    "RAM: 8 GB <br>\n",
    "\n",
    "Any suggestion in this area to improve is welcome."
   ]
  },
  {
   "cell_type": "markdown",
   "metadata": {},
   "source": [
    "## Feature Selection"
   ]
  },
  {
   "cell_type": "markdown",
   "metadata": {},
   "source": [
    "In this section, we select only the most important features. Previously, we have removed the prices with a value equal to zero because mercari does not allow prices with zero. Then, we reduce the length of the name and description dues to dimensionality. Now, we are going to use two options from sklearn, 1) max_def from the method TfidfVectorizer when creating the matrix, and 2) SelectPercentile from feature_selection.\n",
    "\n",
    "We need to recreate the vector called \"Features\" with the max_def functions and then apply SelectPercentile."
   ]
  },
  {
   "cell_type": "code",
   "execution_count": 13,
   "metadata": {},
   "outputs": [
    {
     "name": "stdout",
     "output_type": "stream",
     "text": [
      "CPU times: user 7min 52s, sys: 10 s, total: 8min 2s\n",
      "Wall time: 8min 16s\n"
     ]
    }
   ],
   "source": [
    "%%time\n",
    "#We use max_def in name and description\n",
    "Features = FeatureUnion([('condition', \n",
    "                          CountVectorizer(token_pattern='\\d+',\n",
    "                                          preprocessor=build_preprocessor('condition'))),\n",
    "                         ('shipping', \n",
    "                          CountVectorizer(token_pattern='\\d+',\n",
    "                                          preprocessor=build_preprocessor('shipping'))),\n",
    "                        ('brand', \n",
    "                          CountVectorizer(token_pattern='\\d+',\n",
    "                                          preprocessor=build_preprocessor('brand'))),\n",
    "                        ('category', \n",
    "                          CountVectorizer(token_pattern='.+',\n",
    "                                          preprocessor=build_preprocessor('category'))),\n",
    "                        ('categories', \n",
    "                          CountVectorizer(token_pattern='.+',\n",
    "                                          preprocessor=build_preprocessor('categories'))),\n",
    "                        ('name', \n",
    "                          TfidfVectorizer(ngram_range=(1, 2),\n",
    "                                          max_features=49000,\n",
    "                                          max_df=0.5,\n",
    "                                          sublinear_tf=True,\n",
    "                                          preprocessor=build_preprocessor('name'))),\n",
    "                        ('description', \n",
    "                          TfidfVectorizer(ngram_range=(2, 3),\n",
    "                                          max_features=97000,\n",
    "                                          max_df=0.5,\n",
    "                                          sublinear_tf=True,\n",
    "                                          preprocessor=build_preprocessor('description'))),\n",
    "                        ])\n",
    "\n",
    "Features.fit(train.values)"
   ]
  },
  {
   "cell_type": "code",
   "execution_count": 14,
   "metadata": {},
   "outputs": [
    {
     "name": "stdout",
     "output_type": "stream",
     "text": [
      "CPU times: user 5min 19s, sys: 4.47 s, total: 5min 23s\n",
      "Wall time: 5min 28s\n"
     ]
    }
   ],
   "source": [
    "%%time\n",
    "#tranform as the previous step\n",
    "X_train = Features.transform(train.values).astype(np.float32)"
   ]
  },
  {
   "cell_type": "code",
   "execution_count": 16,
   "metadata": {
    "collapsed": true
   },
   "outputs": [],
   "source": [
    "#np.savez('X_trainMatrixV2', data=X_train.data, indices=X_train.indices,\n",
    "#             indptr=X_train.indptr, shape=X_train.shape)"
   ]
  },
  {
   "cell_type": "code",
   "execution_count": 17,
   "metadata": {
    "collapsed": true
   },
   "outputs": [],
   "source": [
    "X_train = load_sparse_csr('X_trainMatrixV2')"
   ]
  },
  {
   "cell_type": "code",
   "execution_count": 18,
   "metadata": {
    "collapsed": true
   },
   "outputs": [],
   "source": [
    "#split the entire X_train \n",
    "X_train = X_train.astype(np.float32)\n",
    "LogPrices = LogPrices.astype(np.float32)\n",
    "x_train, x_test, y_train, y_test = train_test_split(X_train, LogPrices, train_size=0.80, random_state=42)"
   ]
  },
  {
   "cell_type": "code",
   "execution_count": 9,
   "metadata": {},
   "outputs": [
    {
     "data": {
      "text/plain": [
       "<1185328x147242 sparse matrix of type '<type 'numpy.float32'>'\n",
       "\twith 24465468 stored elements in Compressed Sparse Row format>"
      ]
     },
     "execution_count": 9,
     "metadata": {},
     "output_type": "execute_result"
    }
   ],
   "source": [
    "x_train"
   ]
  },
  {
   "cell_type": "code",
   "execution_count": 10,
   "metadata": {},
   "outputs": [
    {
     "data": {
      "text/plain": [
       "<296333x147242 sparse matrix of type '<type 'numpy.float32'>'\n",
       "\twith 6121163 stored elements in Compressed Sparse Row format>"
      ]
     },
     "execution_count": 10,
     "metadata": {},
     "output_type": "execute_result"
    }
   ],
   "source": [
    "x_test"
   ]
  },
  {
   "cell_type": "code",
   "execution_count": 48,
   "metadata": {},
   "outputs": [
    {
     "name": "stdout",
     "output_type": "stream",
     "text": [
      "CPU times: user 5.18 s, sys: 608 ms, total: 5.78 s\n",
      "Wall time: 5.79 s\n"
     ]
    }
   ],
   "source": [
    "%%time\n",
    "#Select a percentile of features\n",
    "from functools import partial\n",
    "#define the f_regression\n",
    "f_regress = partial(f_regression, center=False)\n",
    "#we will use only the 20 percent of the instances\n",
    "feature_selector = SelectPercentile(f_regress, percentile=10)\n",
    "#fit the training values\n",
    "feature_selector.fit(x_train, y_train)"
   ]
  },
  {
   "cell_type": "code",
   "execution_count": 49,
   "metadata": {},
   "outputs": [
    {
     "name": "stdout",
     "output_type": "stream",
     "text": [
      "CPU times: user 1.45 s, sys: 140 ms, total: 1.59 s\n",
      "Wall time: 1.6 s\n"
     ]
    }
   ],
   "source": [
    "%%time\n",
    "#transform the training and testing values\n",
    "x_train = feature_selector.transform(x_train)\n",
    "x_test = feature_selector.transform(x_test)"
   ]
  },
  {
   "cell_type": "markdown",
   "metadata": {},
   "source": [
    "## Models Development"
   ]
  },
  {
   "cell_type": "markdown",
   "metadata": {},
   "source": [
    "1) Decision tree regression"
   ]
  },
  {
   "cell_type": "code",
   "execution_count": 50,
   "metadata": {},
   "outputs": [
    {
     "name": "stdout",
     "output_type": "stream",
     "text": [
      "CPU times: user 24.2 s, sys: 12 ms, total: 24.2 s\n",
      "Wall time: 24.4 s\n"
     ]
    }
   ],
   "source": [
    "%%time\n",
    "from sklearn.tree import DecisionTreeRegressor\n",
    "#We run the tree with the defaul values\n",
    "regressor = DecisionTreeRegressor()\n",
    "\n",
    "regressor.fit(x_train[:20000], y_train[:20000])"
   ]
  },
  {
   "cell_type": "code",
   "execution_count": 51,
   "metadata": {},
   "outputs": [
    {
     "name": "stdout",
     "output_type": "stream",
     "text": [
      "CPU times: user 300 ms, sys: 0 ns, total: 300 ms\n",
      "Wall time: 296 ms\n"
     ]
    }
   ],
   "source": [
    "%%time\n",
    "y_predictions = regressor.predict(x_test)"
   ]
  },
  {
   "cell_type": "code",
   "execution_count": 52,
   "metadata": {},
   "outputs": [
    {
     "name": "stdout",
     "output_type": "stream",
     "text": [
      "The rmsle for the default values with a decision tree regression is: 0.751344189687\n"
     ]
    }
   ],
   "source": [
    "print \"The rmsle for the default values with a decision tree regression is: \" + str(rmsle(y_test.tolist(), y_predictions))"
   ]
  },
  {
   "cell_type": "markdown",
   "metadata": {},
   "source": [
    "2) Linear Regression"
   ]
  },
  {
   "cell_type": "code",
   "execution_count": 47,
   "metadata": {},
   "outputs": [
    {
     "name": "stdout",
     "output_type": "stream",
     "text": [
      "CPU times: user 8min 10s, sys: 20.9 s, total: 8min 30s\n",
      "Wall time: 2min 8s\n"
     ]
    }
   ],
   "source": [
    "%%time\n",
    "from sklearn.linear_model import LinearRegression\n",
    "#We run the tree with the defaul values\n",
    "lr = LinearRegression(n_jobs=-1)\n",
    "\n",
    "lr.fit(x_train[:20000], y_train[:20000])"
   ]
  },
  {
   "cell_type": "code",
   "execution_count": 48,
   "metadata": {},
   "outputs": [
    {
     "name": "stdout",
     "output_type": "stream",
     "text": [
      "CPU times: user 176 ms, sys: 12 ms, total: 188 ms\n",
      "Wall time: 47.1 ms\n"
     ]
    }
   ],
   "source": [
    "%%time\n",
    "y_predictions = lr.predict(x_test)"
   ]
  },
  {
   "cell_type": "code",
   "execution_count": 49,
   "metadata": {},
   "outputs": [
    {
     "name": "stdout",
     "output_type": "stream",
     "text": [
      "The rmsle for the default values with a linear regression is: 1.3545084208\n"
     ]
    }
   ],
   "source": [
    "print \"The rmsle for the default values with a linear regression is: \" + str(rmsle(y_test.tolist(), y_predictions))"
   ]
  },
  {
   "cell_type": "markdown",
   "metadata": {},
   "source": [
    "3) Support Vector Regression (SVR)"
   ]
  },
  {
   "cell_type": "code",
   "execution_count": 41,
   "metadata": {},
   "outputs": [
    {
     "name": "stdout",
     "output_type": "stream",
     "text": [
      "CPU times: user 1min 23s, sys: 76 ms, total: 1min 23s\n",
      "Wall time: 1min 23s\n"
     ]
    }
   ],
   "source": [
    "%%time\n",
    "from sklearn.svm import SVR\n",
    "clf = SVR()\n",
    "clf.fit(x_train[:20000], y_train[:20000])"
   ]
  },
  {
   "cell_type": "code",
   "execution_count": 42,
   "metadata": {},
   "outputs": [
    {
     "name": "stdout",
     "output_type": "stream",
     "text": [
      "CPU times: user 22min 27s, sys: 180 ms, total: 22min 27s\n",
      "Wall time: 22min 27s\n"
     ]
    }
   ],
   "source": [
    "%%time\n",
    "y_predictions = clf.predict(x_test)"
   ]
  },
  {
   "cell_type": "code",
   "execution_count": 43,
   "metadata": {},
   "outputs": [
    {
     "name": "stdout",
     "output_type": "stream",
     "text": [
      "The rmsle for the default values with a linear regression is: 0.721296427205\n"
     ]
    }
   ],
   "source": [
    "print \"The rmsle for the default values with a SVR is: \" + str(rmsle(y_test.tolist(), y_predictions))"
   ]
  },
  {
   "cell_type": "markdown",
   "metadata": {},
   "source": [
    "4) XGBoost"
   ]
  },
  {
   "cell_type": "code",
   "execution_count": 50,
   "metadata": {},
   "outputs": [
    {
     "name": "stdout",
     "output_type": "stream",
     "text": [
      "CPU times: user 8min 51s, sys: 328 ms, total: 8min 51s\n",
      "Wall time: 8min 51s\n"
     ]
    }
   ],
   "source": [
    "%%time\n",
    "import xgboost as xgb\n",
    "\n",
    "xgb = xgb.XGBRegressor()\n",
    "\n",
    "xgb.fit(x_train, y_train)"
   ]
  },
  {
   "cell_type": "code",
   "execution_count": 51,
   "metadata": {},
   "outputs": [
    {
     "name": "stdout",
     "output_type": "stream",
     "text": [
      "CPU times: user 1.19 s, sys: 4 ms, total: 1.2 s\n",
      "Wall time: 1.19 s\n"
     ]
    }
   ],
   "source": [
    "%%time\n",
    "y_predictions = xgb.predict(x_test)"
   ]
  },
  {
   "cell_type": "code",
   "execution_count": 52,
   "metadata": {},
   "outputs": [
    {
     "name": "stdout",
     "output_type": "stream",
     "text": [
      "The rmsle for the default values with a xgboost is: 0.634681729818\n"
     ]
    }
   ],
   "source": [
    "print \"The rmsle for the default values with a xgboost is: \" + str(rmsle(y_test.tolist(), y_predictions))"
   ]
  },
  {
   "cell_type": "markdown",
   "metadata": {},
   "source": [
    "## Compare Results"
   ]
  },
  {
   "cell_type": "markdown",
   "metadata": {},
   "source": [
    "During the previous section, 4 models were created with the default options in order to determine the best one. As seen, the best model comes from the 4th method \"XGBoost\" with a rmsle of 0.6351, followed by the SVR reporting 0.7212. XGBoost proved to be the best model not just by the metric, but also because it was able to handle the entire sample set in the least amount of time. Around 10 minutes for the training phase and approximately a second to predict 296333 instances. \n",
    "\n",
    "To clarify, XGBoost was first tested with only 20000 instances as the other models, providing similar results as the one presented with the entire instances.\n",
    "\n",
    "In contrast, SVR took less time to train. However, it could not manage the entire training set due to a Memory error and the prediction time takes around 20 minutes.\n",
    "\n",
    "It might be possible that at this stage we could define the KNN as the best one since it shows less rmsle with 0.5596. But, same as the SVR the prediction time takes a lot of time. For instance, only 40000 test instances took around 30 minutes, turning the model in not-optimal if we consider the time to train and predict. Points where the XGBoost outperforms its competitors."
   ]
  },
  {
   "cell_type": "markdown",
   "metadata": {},
   "source": [
    "## Tunning Model"
   ]
  },
  {
   "cell_type": "markdown",
   "metadata": {},
   "source": [
    "At this stage we will select the best parameters for the XGBoost in order to reduce the rmsle."
   ]
  },
  {
   "cell_type": "code",
   "execution_count": 19,
   "metadata": {},
   "outputs": [
    {
     "name": "stdout",
     "output_type": "stream",
     "text": [
      "CPU times: user 14min 42s, sys: 9.1 s, total: 14min 51s\n",
      "Wall time: 14min 51s\n"
     ]
    }
   ],
   "source": [
    "%%time\n",
    "from sklearn.model_selection import GridSearchCV, ShuffleSplit\n",
    "from sklearn.metrics import make_scorer\n",
    "import xgboost as xgb\n",
    "xgb = xgb.XGBRegressor()\n",
    "parameters = {\n",
    "                'max_depth': [18],\n",
    "                'learning_rate': [0.19],\n",
    "                'n_estimators': [92],\n",
    "                'booster': ['gblinear'],\n",
    "                'gamma':[0.0],\n",
    "                'min_child_weight':[0],\n",
    "                'max_delta_step':[0],\n",
    "                'reg_alpha':[0.25],\n",
    "                'reg_lambda':[1.1]  \n",
    "            }\n",
    "\n",
    "clf = GridSearchCV(xgb, parameters, cv=10)\n",
    "\n",
    "clf.fit(x_train, y_train)"
   ]
  },
  {
   "cell_type": "code",
   "execution_count": 20,
   "metadata": {},
   "outputs": [
    {
     "name": "stdout",
     "output_type": "stream",
     "text": [
      "{'reg_alpha': 0.25, 'learning_rate': 0.19, 'max_delta_step': 0, 'min_child_weight': 0, 'n_estimators': 92, 'reg_lambda': 1.1, 'max_depth': 18, 'gamma': 0.0, 'booster': 'gblinear'}\n"
     ]
    }
   ],
   "source": [
    "print clf.best_params_ "
   ]
  },
  {
   "cell_type": "code",
   "execution_count": 21,
   "metadata": {},
   "outputs": [
    {
     "name": "stdout",
     "output_type": "stream",
     "text": [
      "CPU times: user 404 ms, sys: 52 ms, total: 456 ms\n",
      "Wall time: 447 ms\n"
     ]
    }
   ],
   "source": [
    "%%time\n",
    "y_predictions = clf.predict(x_test)"
   ]
  },
  {
   "cell_type": "code",
   "execution_count": 22,
   "metadata": {},
   "outputs": [
    {
     "name": "stdout",
     "output_type": "stream",
     "text": [
      "The rmsle for the custom parameters with a xgboost is: 0.467033042223\n"
     ]
    }
   ],
   "source": [
    "print \"The rmsle for the custom parameters with a xgboost is: \" + str(rmsle(y_test.tolist(), y_predictions))"
   ]
  },
  {
   "cell_type": "code",
   "execution_count": 29,
   "metadata": {},
   "outputs": [
    {
     "data": {
      "image/png": "[encoded data removed]",
      "text/plain": [
       "<matplotlib.figure.Figure at 0x7f1ac6fb3ed0>"
      ]
     },
     "metadata": {},
     "output_type": "display_data"
    }
   ],
   "source": [
    "import matplotlib.pyplot as plt\n",
    "fig, ax = plt.subplots()\n",
    "ax.scatter(y_test, y_predictions, edgecolors=(0, 0, 0))\n",
    "ax.plot([y_test.min(), y_test.max()], [y_test.min(), y_test.max()], 'k--', lw=4)\n",
    "ax.set_xlabel('Measured')\n",
    "ax.set_ylabel('Predicted')\n",
    "plt.show()"
   ]
  },
  {
   "cell_type": "markdown",
   "metadata": {},
   "source": [
    "After tunning the XGBoost parameters, there is a clear improvement.It started with 0.6351 and reduced the error 0.1244 to have a final rmsle of 0.5107, the best score obtained.\n",
    "\n",
    "In the grid search above, there are presented only the final parameters. The process to obtain them was one by one, starting with a range of them. Then, they were reduced to get the best possible. The grid search was conducted with a sample of 15000 instances due to the time to try the entire training set.  \n",
    "\n",
    "It is important to mention that while tunning, one of the most important tuning parameters was the \"max_depth\" just configuring it the improvement was of 0.10 in the error. Also, as the depth increased the time to training time did the same.\n",
    "\n",
    "Compared with the results in the competitions, this model performs well by looking the best result which is 0.3777. If we put this result on the leaders board it would be right in the middle."
   ]
  },
  {
   "cell_type": "markdown",
   "metadata": {
    "collapsed": true
   },
   "source": [
    "#### Model Robustness"
   ]
  },
  {
   "cell_type": "markdown",
   "metadata": {},
   "source": [
    "In this section the testing is splitte in different folds and we review the RMSLE in each one."
   ]
  },
  {
   "cell_type": "code",
   "execution_count": 30,
   "metadata": {
    "collapsed": true
   },
   "outputs": [],
   "source": [
    "from sklearn.model_selection import cross_val_score\n",
    "from sklearn.model_selection import KFold\n",
    "from sklearn.metrics import make_scorer\n",
    "\n",
    "rmsle_scorer = make_scorer(rmsle, greater_is_better=False)\n",
    "\n",
    "kf = KFold(n_splits=20, shuffle=True, random_state=42)\n",
    "cv_results = cross_val_score(clf, x_test, y_test.tolist(), cv=kf, scoring=rmsle_scorer)\n"
   ]
  },
  {
   "cell_type": "code",
   "execution_count": 31,
   "metadata": {},
   "outputs": [
    {
     "name": "stdout",
     "output_type": "stream",
     "text": [
      "[-0.49144967 -0.4900279  -0.49239336 -0.49535547 -0.49490726 -0.49421077\n",
      " -0.48585994 -0.4904778  -0.49210552 -0.49544221 -0.48033098 -0.49010733\n",
      " -0.49843175 -0.48931229 -0.48679669 -0.48721305 -0.48953899 -0.48542221\n",
      " -0.49365908 -0.48654719]\n"
     ]
    }
   ],
   "source": [
    "print cv_results"
   ]
  },
  {
   "cell_type": "code",
   "execution_count": null,
   "metadata": {
    "collapsed": true
   },
   "outputs": [],
   "source": []
  }
 ],
 "metadata": {
  "kernelspec": {
   "display_name": "Python 2",
   "language": "python",
   "name": "python2"
  },
  "language_info": {
   "codemirror_mode": {
    "name": "ipython",
    "version": 2
   },
   "file_extension": ".py",
   "mimetype": "text/x-python",
   "name": "python",
   "nbconvert_exporter": "python",
   "pygments_lexer": "ipython2",
   "version": "2.7.13"
  }
 },
 "nbformat": 4,
 "nbformat_minor": 2
}
