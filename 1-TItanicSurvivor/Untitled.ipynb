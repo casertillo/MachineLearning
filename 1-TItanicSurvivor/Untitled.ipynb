{
 "cells": [
  {
   "cell_type": "code",
   "execution_count": 2,
   "metadata": {},
   "outputs": [
    {
     "name": "stderr",
     "output_type": "stream",
     "text": [
      "/home/casertillo/anaconda2/lib/python2.7/site-packages/sklearn/cross_validation.py:44: DeprecationWarning: This module was deprecated in version 0.18 in favor of the model_selection module into which all the refactored classes and functions are moved. Also note that the interface of the new CV iterators are different from that of this module. This module will be removed in 0.20.\n",
      "  \"This module will be removed in 0.20.\", DeprecationWarning)\n"
     ]
    },
    {
     "name": "stdout",
     "output_type": "stream",
     "text": [
      "Accuracy Score: 0.787313432836\n"
     ]
    },
    {
     "ename": "ImportError",
     "evalue": "No module named pydot",
     "output_type": "error",
     "traceback": [
      "\u001b[0;31m---------------------------------------------------------------------------\u001b[0m",
      "\u001b[0;31mImportError\u001b[0m                               Traceback (most recent call last)",
      "\u001b[0;32m<ipython-input-2-08c2a40e7d97>\u001b[0m in \u001b[0;36m<module>\u001b[0;34m()\u001b[0m\n\u001b[1;32m     37\u001b[0m \u001b[0;32mfrom\u001b[0m \u001b[0msklearn\u001b[0m\u001b[0;34m.\u001b[0m\u001b[0mexternals\u001b[0m\u001b[0;34m.\u001b[0m\u001b[0msix\u001b[0m \u001b[0;32mimport\u001b[0m \u001b[0mStringIO\u001b[0m\u001b[0;34m\u001b[0m\u001b[0m\n\u001b[1;32m     38\u001b[0m \u001b[0;32mfrom\u001b[0m \u001b[0mIPython\u001b[0m\u001b[0;34m.\u001b[0m\u001b[0mdisplay\u001b[0m \u001b[0;32mimport\u001b[0m \u001b[0mImage\u001b[0m\u001b[0;34m\u001b[0m\u001b[0m\n\u001b[0;32m---> 39\u001b[0;31m \u001b[0;32mimport\u001b[0m \u001b[0mpydot\u001b[0m\u001b[0;34m\u001b[0m\u001b[0m\n\u001b[0m\u001b[1;32m     40\u001b[0m \u001b[0;32mprint\u001b[0m \u001b[0mdata\u001b[0m\u001b[0;34m.\u001b[0m\u001b[0mcolumns\u001b[0m\u001b[0;34m\u001b[0m\u001b[0m\n\u001b[1;32m     41\u001b[0m \u001b[0mdot_data\u001b[0m \u001b[0;34m=\u001b[0m \u001b[0mStringIO\u001b[0m\u001b[0;34m(\u001b[0m\u001b[0;34m)\u001b[0m\u001b[0;34m\u001b[0m\u001b[0m\n",
      "\u001b[0;31mImportError\u001b[0m: No module named pydot"
     ]
    }
   ],
   "source": [
    "## Load Data\n",
    "import pandas\n",
    "data = pandas.read_csv('titanic_data.csv', sep=',')\n",
    "\n",
    "## Define outcome, drop non used features and generate a binary variable for Sex:\n",
    "outcomes = data['Survived']\n",
    "data = data.drop(['Survived','Name','Ticket','Cabin','Embarked','PassengerId'], axis = 1)\n",
    "data.loc[:, 'Sex'] = data['Sex'].apply(lambda x: 1. if x == 'female' else 0.)\n",
    "\n",
    "## impute missing values in the age column using Sex and Pclass:\n",
    "data.loc[:, 'Age'] = data.groupby(['Sex','Pclass']).transform(lambda x: x.fillna(x.median()))\n",
    "\n",
    "## Split the data into train/test sets: (train data is used to make the model learn from data and test data is used to estimate how well model generalized)\n",
    "from sklearn.cross_validation import StratifiedShuffleSplit\n",
    "sss = StratifiedShuffleSplit(outcomes, 1, test_size=0.3, random_state=450)\n",
    "for train_index, test_index in sss:\n",
    "    X_train = data.iloc[train_index]\n",
    "    y_train = outcomes.iloc[train_index]\n",
    "    X_test = data.iloc[test_index]\n",
    "    y_test = outcomes.iloc[test_index]\n",
    "\n",
    "## Define Decision Tree to use: (give it a try and change parameters to see the different trees built)\n",
    "from sklearn import tree\n",
    "clf = tree.DecisionTreeClassifier(max_features=3,max_depth=2)\n",
    "\n",
    "## Use train data to train the model:\n",
    "clf = clf.fit(X_train, y_train)\n",
    "\n",
    "# Generate predictions over test set:\n",
    "predictions = clf.predict(X_test)\n",
    "\n",
    "# Accuracy results over test set:\n",
    "from sklearn.metrics import accuracy_score\n",
    "print \"Accuracy Score:\", accuracy_score(y_test, predictions)\n",
    "\n",
    "## Represent Generated Tree:\n",
    "from sklearn.externals.six import StringIO\n",
    "from IPython.display import Image\n",
    "import pydot \n",
    "print data.columns\n",
    "dot_data = StringIO() \n",
    "tree.export_graphviz(clf, out_file=dot_data,  \n",
    "                         feature_names=data.columns,\n",
    "                         class_names=['Perished','Survived'], \n",
    "                         filled=True, rounded=True,\n",
    "                         proportion = True,\n",
    "                         special_characters=True)  \n",
    "graph = pydot.graph_from_dot_data(dot_data.getvalue())  \n",
    "Image(graph.create_png())"
   ]
  },
  {
   "cell_type": "code",
   "execution_count": null,
   "metadata": {
    "collapsed": true
   },
   "outputs": [],
   "source": []
  }
 ],
 "metadata": {
  "kernelspec": {
   "display_name": "Python 2",
   "language": "python",
   "name": "python2"
  },
  "language_info": {
   "codemirror_mode": {
    "name": "ipython",
    "version": 2
   },
   "file_extension": ".py",
   "mimetype": "text/x-python",
   "name": "python",
   "nbconvert_exporter": "python",
   "pygments_lexer": "ipython2",
   "version": "2.7.13"
  }
 },
 "nbformat": 4,
 "nbformat_minor": 2
}
